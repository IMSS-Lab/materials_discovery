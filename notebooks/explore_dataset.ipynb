{
 "cells": [
  {
   "cell_type": "code",
   "execution_count": 1,
   "id": "73632554",
   "metadata": {},
   "outputs": [],
   "source": [
    "# Add your scripts/ folder to Python path\n",
    "import sys\n",
    "sys.path.append('../scripts')\n",
    "\n",
    "# Import the class you defined\n",
    "from gnome_dataset import GNOMEDataset\n",
    "\n",
    "# Create the dataset object\n",
    "dataset = GNOMEDataset(\n",
    "    structure_dir=\"../data/gnome-dataset/gnome_data/by_reduced_formula\",\n",
    "    label_path=\"../data/gnome-dataset/gnome_data/stable_materials_summary.csv\"\n",
    ")\n"
   ]
  },
  {
   "cell_type": "code",
   "execution_count": null,
   "id": "5450154b",
   "metadata": {},
   "outputs": [],
   "source": [
    "print(f\"Total structures loaded: {len(dataset)}\")\n",
    "\n",
    "sample = dataset[0]\n",
    "\n",
    "print(\"Formula:\", sample['formula'])\n",
    "print(\"Label Info:\", sample['label_info'])\n"
   ]
  },
  {
   "cell_type": "code",
   "execution_count": null,
   "id": "4025d3bd",
   "metadata": {},
   "outputs": [],
   "source": []
  }
 ],
 "metadata": {
  "kernelspec": {
   "display_name": "venv",
   "language": "python",
   "name": "python3"
  },
  "language_info": {
   "codemirror_mode": {
    "name": "ipython",
    "version": 3
   },
   "file_extension": ".py",
   "mimetype": "text/x-python",
   "name": "python",
   "nbconvert_exporter": "python",
   "pygments_lexer": "ipython3",
   "version": "3.13.1"
  }
 },
 "nbformat": 4,
 "nbformat_minor": 5
}
