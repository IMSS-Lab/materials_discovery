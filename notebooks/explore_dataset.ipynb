{
 "cells": [
  {
   "cell_type": "code",
   "execution_count": 1,
   "id": "73632554",
   "metadata": {},
   "outputs": [],
   "source": [
    "# Add your scripts/ folder to Python path\n",
    "import sys\n",
    "sys.path.append('../scripts')\n",
    "\n",
    "# Import the class you defined\n",
    "from gnome_dataset import GNOMEDataset\n",
    "\n",
    "# Create the dataset object\n",
    "dataset = GNOMEDataset(\n",
    "    structure_dir=\"../data/gnome-dataset/gnome_data/by_reduced_formula\",\n",
    "    label_path=\"../data/gnome-dataset/gnome_data/stable_materials_summary.csv\"\n",
    ")\n"
   ]
  },
  {
   "cell_type": "code",
   "execution_count": 4,
   "id": "5450154b",
   "metadata": {},
   "outputs": [
    {
     "name": "stdout",
     "output_type": "stream",
     "text": [
      "Total structures loaded: 554052\n",
      "Formula: Ac(Al2Ir)2\n",
      "Label Info: {'Unnamed: 0': 248650, 'Composition': 'Ac4Al16Ir8', 'MaterialId': '72edd25848', 'Reduced Formula': 'Ac(Al2Ir)2', 'Elements': \"['Al', 'Ir', 'Ac']\", 'NSites': 28, 'Volume': 541.2198, 'Density': 8.8284, 'Point Group': 'mmm', 'Space Group': 'Pnma', 'Space Group Number': 62, 'Crystal System': 'orthorhombic', 'Uncorrected Energy': -169.4025, 'Corrected Energy': -169.4025, 'Formation Energy Per Atom': -0.7958, 'Decomposition Energy Per Atom': -0.1138, 'Dimensionality Cheon': '3D', 'Bandgap': nan, 'Is Train': True, 'Decomposition Energy Per Atom All': 0.0, 'Decomposition Energy Per Atom Relative': nan, 'Decomposition Energy Per Atom MP': -0.1138, 'Decomposition Energy Per Atom MP OQMD': -0.1129, 'Data Directory': 'gs://crystal-design/output/borg/round_5_3/1e_3_med_0_common_84_nobal/Ac4Al16Ir8/0'}\n"
     ]
    }
   ],
   "source": [
    "print(f\"Total structures loaded: {len(dataset)}\")\n",
    "\n",
    "sample = dataset[0]\n",
    "\n",
    "print(\"Formula:\", sample['formula'])\n",
    "print(\"Label Info:\", sample['label_info'])\n"
   ]
  },
  {
   "cell_type": "code",
   "execution_count": null,
   "id": "4025d3bd",
   "metadata": {},
   "outputs": [],
   "source": []
  }
 ],
 "metadata": {
  "kernelspec": {
   "display_name": "venv",
   "language": "python",
   "name": "python3"
  },
  "language_info": {
   "codemirror_mode": {
    "name": "ipython",
    "version": 3
   },
   "file_extension": ".py",
   "mimetype": "text/x-python",
   "name": "python",
   "nbconvert_exporter": "python",
   "pygments_lexer": "ipython3",
   "version": "3.13.1"
  }
 },
 "nbformat": 4,
 "nbformat_minor": 5
}
