{
  "cells": [
    {
      "cell_type": "markdown",
      "metadata": {
        "id": "dt_e7kb3VOmr"
      },
      "source": [
        "# Compute Decomposition Energies\n",
        "\n",
        "The [GNoME](https://www.nature.com/articles/s41586-023-06735-9) dataset presents hundreds of thousands of novel stable crystals compared to prior datasets. While GNoME has updated the convex hull of many chemical systems of interest, further research will likely continue to find low energy structures and potentially update the convex hulls.\n",
        "\n",
        "In this colab, we provide examples for computing the decomposition energy of a new structure compared to the entire GNoME dataset. This strategy can be used to check if a new structure is stable or (if not) compute the distance to the convex hull.\n"
      ]
    },
    {
      "cell_type": "markdown",
      "metadata": {
        "id": "iTju8OpnWuut"
      },
      "source": [
        "# Import Libraries"
      ]
    },
    {
      "cell_type": "code",
      "execution_count": null,
      "metadata": {
        "colab": {
          "base_uri": "https://localhost:8080/"
        },
        "collapsed": true,
        "id": "4fartDI0XGVP",
        "outputId": "0191854a-9a1d-4c77-c2d3-4b446fa84d11"
      },
      "outputs": [],
      "source": [
        "!pip install pymatgen"
      ]
    },
    {
      "cell_type": "code",
      "execution_count": null,
      "metadata": {
        "id": "NnWJtMdUBi98"
      },
      "outputs": [],
      "source": [
        "import itertools\n",
        "import json\n",
        "import os\n",
        "import pandas as pd\n",
        "\n",
        "import pymatgen as mg\n",
        "from pymatgen.entries.computed_entries import ComputedEntry\n",
        "from pymatgen.analysis import phase_diagram"
      ]
    },
    {
      "cell_type": "markdown",
      "metadata": {
        "id": "RlW9MB4LWsJw"
      },
      "source": [
        "## Download the Dataset"
      ]
    },
    {
      "cell_type": "code",
      "execution_count": null,
      "metadata": {
        "id": "z6EpVu5zAA3u"
      },
      "outputs": [],
      "source": [
        "PUBLIC_LINK = \"https://storage.googleapis.com/\"\n",
        "BUCKET_NAME = \"gdm_materials_discovery\"\n",
        "\n",
        "FOLDER_NAME = \"gnome_data\"\n",
        "FILES = (\n",
        "    \"stable_materials_summary.csv\",\n",
        ")\n",
        "\n",
        "EXTERNAL_FOLDER_NAME = \"external_data\"\n",
        "EXTERNAL_FILES = (\n",
        "    \"external_materials_summary.csv\",\n",
        ")\n",
        "\n",
        "def download_from_link(link: str, output_dir: str):\n",
        "  \"\"\"Download a file from a public link using wget.\"\"\"\n",
        "  os.system(f\"wget {link} -P {output_dir}\")\n",
        "\n",
        "parent_directory = os.path.join(PUBLIC_LINK, BUCKET_NAME)\n",
        "for filename in FILES:\n",
        "  public_link = os.path.join(parent_directory, FOLDER_NAME, filename)\n",
        "  download_from_link(public_link, '.')\n",
        "\n",
        "for filename in EXTERNAL_FILES:\n",
        "  public_link = os.path.join(parent_directory, EXTERNAL_FOLDER_NAME, filename)\n",
        "  download_from_link(public_link, '.')"
      ]
    },
    {
      "cell_type": "markdown",
      "metadata": {
        "id": "2eUr0Z-iWxjs"
      },
      "source": [
        "## Preprocess the GNoME Dataset\n",
        "\n"
      ]
    },
    {
      "cell_type": "code",
      "execution_count": null,
      "metadata": {
        "colab": {
          "base_uri": "https://localhost:8080/",
          "height": 582
        },
        "id": "G8U7YBHw9ECY",
        "outputId": "6b07a22f-a835-4037-b5bd-6ab6f611117f"
      },
      "outputs": [],
      "source": [
        "gnome_crystals = pd.read_csv('stable_materials_summary.csv', index_col=0)\n",
        "gnome_crystals"
      ]
    },
    {
      "cell_type": "code",
      "execution_count": null,
      "metadata": {
        "colab": {
          "base_uri": "https://localhost:8080/",
          "height": 423
        },
        "id": "daK636FDwEWh",
        "outputId": "a02733cf-6c8c-497a-cf21-297a3eb1ebf7"
      },
      "outputs": [],
      "source": [
        "# This set contains all other elements on the convex hull that are not inlcuded\n",
        "# in the definition of GNoMe structures as they have a matching composition in\n",
        "# Materials Project / OQMD.\n",
        "reference_crystals = pd.read_csv('external_materials_summary.csv')\n",
        "reference_crystals"
      ]
    },
    {
      "cell_type": "code",
      "execution_count": null,
      "metadata": {
        "id": "dxb5seQGpXi7"
      },
      "outputs": [],
      "source": [
        "def annotate_chemical_system(crystals: pd.DataFrame) -> pd.DataFrame:\n",
        "  \"\"\"Annotate a summary DataFrame with the chemical system\"\"\"\n",
        "  chemical_systems = []\n",
        "  for i, e in enumerate(crystals['Elements']):\n",
        "    # replace single quotes with double quotes to avoid having to use python eval\n",
        "    chemsys = json.loads(e.replace(\"'\", '\"'))\n",
        "\n",
        "    # provide chemical system in sorted order to make for easier lookup\n",
        "    chemical_systems.append(tuple(sorted(chemsys)))\n",
        "  crystals['Chemical System'] = chemical_systems\n",
        "  return crystals"
      ]
    },
    {
      "cell_type": "code",
      "execution_count": null,
      "metadata": {
        "id": "Zn3hsZrlpPO8"
      },
      "outputs": [],
      "source": [
        "# Collect list of all convex hull entries\n",
        "gnome_crystals = annotate_chemical_system(gnome_crystals)\n",
        "reference_crystals = annotate_chemical_system(reference_crystals)\n",
        "all_crystals = pd.concat([gnome_crystals, reference_crystals], ignore_index=True)"
      ]
    },
    {
      "cell_type": "code",
      "execution_count": null,
      "metadata": {
        "id": "hGFBY3jPr35l"
      },
      "outputs": [],
      "source": [
        "required_columns = ['Composition', 'NSites', 'Corrected Energy', 'Formation Energy Per Atom', 'Chemical System']\n",
        "minimal_entries = all_crystals[required_columns]\n",
        "grouped_entries = minimal_entries.groupby('Chemical System')"
      ]
    },
    {
      "cell_type": "markdown",
      "metadata": {
        "id": "2u8e-NUksrcw"
      },
      "source": [
        "## Choose a Structure"
      ]
    },
    {
      "cell_type": "code",
      "execution_count": null,
      "metadata": {
        "colab": {
          "base_uri": "https://localhost:8080/"
        },
        "id": "Zq1RjCyT25E5",
        "outputId": "44e5156e-bb9d-4268-ff5b-28c7e7171714"
      },
      "outputs": [],
      "source": [
        "# @title Provide Entry Details\n",
        "# @markdown To compute the decomposition energy of a provided structure, please\n",
        "# @markdown fill out the composition and Corrected Energy in the form below.\n",
        "# @markdown If no data is provided a random structure will be chosen.\n",
        "\n",
        "composition = '' # @param {type:\"string\"}\n",
        "energy = 0.0 # @param {type:\"number\"}\n",
        "\n",
        "if composition == '':\n",
        "  print(\"No composition provided. Choosing a random crystal.\")\n",
        "  sample = gnome_crystals.sample()\n",
        "  sample_entry = ComputedEntry(\n",
        "      composition=sample['Composition'].item(),\n",
        "      energy=sample['Corrected Energy'].item(),\n",
        "  )\n",
        "  chemsys = sample['Chemical System'].item()\n",
        "else:\n",
        "  composition = mg.Composition(composition)\n",
        "  sample_entry = ComputedEntry(\n",
        "      composition=composition,\n",
        "      energy=energy,\n",
        "  )\n",
        "  chemsys = [str(el) for el in composition.elements]"
      ]
    },
    {
      "cell_type": "markdown",
      "metadata": {
        "id": "2PRDLb0EtFQ2"
      },
      "source": [
        "## Gather Entries from the Chemical System\n",
        "\n",
        "Computing the decomposition energy requires computing the convex hull of the associated system. To do so, we gather all other crystals from the given\n",
        "chemical system from the GNoME dataset + previously known entries to the convex hull."
      ]
    },
    {
      "cell_type": "code",
      "execution_count": null,
      "metadata": {
        "id": "qCtF5ZZdtIS3"
      },
      "outputs": [],
      "source": [
        "# Gather other entries on the convex hull\n",
        "\n",
        "def gather_convex_hull(chemsys):\n",
        "  phase_diagram_entries = []\n",
        "\n",
        "  for length in range(len(chemsys) + 1):\n",
        "    for subsystem in itertools.combinations(chemsys, length):\n",
        "      subsystem_key = tuple(sorted(subsystem))\n",
        "      subsystem_entries = grouped_entries.groups.get(subsystem_key, [])\n",
        "\n",
        "      if len(subsystem_entries):\n",
        "        phase_diagram_entries.append(minimal_entries.iloc[subsystem_entries])\n",
        "\n",
        "  phase_diagram_entries = pd.concat(phase_diagram_entries)\n",
        "\n",
        "  # Convert to mg.ComputedEntries for used with phase_diagram tooling\n",
        "  mg_entries = []\n",
        "\n",
        "  for _, row in phase_diagram_entries.iterrows():\n",
        "    composition = row['Composition']\n",
        "    formation_energy = row['Corrected Energy']\n",
        "    entry = ComputedEntry(composition, formation_energy)\n",
        "    mg_entries.append(entry)\n",
        "\n",
        "  # Add entries with 0 formation entries for every element\n",
        "  for element in chemsys:\n",
        "    elemental_entry = ComputedEntry(element, 0.0)\n",
        "    mg_entries.append(elemental_entry)\n",
        "\n",
        "  return mg_entries"
      ]
    },
    {
      "cell_type": "code",
      "execution_count": null,
      "metadata": {
        "id": "cgKlq9KdulDI"
      },
      "outputs": [],
      "source": [
        "mg_entries = gather_convex_hull(chemsys)"
      ]
    },
    {
      "cell_type": "markdown",
      "metadata": {
        "id": "Sy1cGfeNyhpw"
      },
      "source": [
        "## Compute Phase Diagram"
      ]
    },
    {
      "cell_type": "code",
      "execution_count": null,
      "metadata": {
        "id": "YiUcTMVwyydC"
      },
      "outputs": [],
      "source": [
        "# Compute the convex hull for the phase diagram\n",
        "diagram = phase_diagram.PhaseDiagram(mg_entries)"
      ]
    },
    {
      "cell_type": "markdown",
      "metadata": {
        "id": "3JHp9ezCzheW"
      },
      "source": [
        "## Compute Decomposition Energies"
      ]
    },
    {
      "cell_type": "code",
      "execution_count": null,
      "metadata": {
        "colab": {
          "base_uri": "https://localhost:8080/"
        },
        "id": "Pi8NIMR5zxEY",
        "outputId": "f5dbdfb7-c3fd-46a4-f477-04789ef32540"
      },
      "outputs": [],
      "source": [
        "# View the currently sampled entry\n",
        "sample_entry"
      ]
    },
    {
      "cell_type": "code",
      "execution_count": null,
      "metadata": {
        "id": "gygnU0Zizxrt"
      },
      "outputs": [],
      "source": [
        "decomposition, decomposition_energy = diagram.get_decomp_and_e_above_hull(sample_entry, allow_negative=True)"
      ]
    },
    {
      "cell_type": "code",
      "execution_count": null,
      "metadata": {
        "colab": {
          "base_uri": "https://localhost:8080/"
        },
        "id": "L1iFZ2Ao0DTS",
        "outputId": "a692bd3d-e600-4504-9649-94a84b92e550"
      },
      "outputs": [],
      "source": [
        "# For a sample from GNoME, this number is likely to be <1e-3 as this was the\n",
        "# threshold set for the data release.\n",
        "print(f\"Decomposition Energy: {decomposition_energy}.\")"
      ]
    },
    {
      "cell_type": "code",
      "execution_count": null,
      "metadata": {
        "colab": {
          "base_uri": "https://localhost:8080/"
        },
        "id": "suiXvPPC0TLk",
        "outputId": "ac850c43-36f3-485f-957a-94f039e590fd"
      },
      "outputs": [],
      "source": [
        "print(f\"Decomposition: {decomposition}\")"
      ]
    },
    {
      "cell_type": "markdown",
      "metadata": {
        "id": "G0h9R5897paC"
      },
      "source": [
        "# Run All Cells at Once\n",
        "\n",
        "The following cell combines the rest of the logic used above and can be used instead of running the rest of the cells above multiple times."
      ]
    },
    {
      "cell_type": "code",
      "execution_count": null,
      "metadata": {
        "id": "NxYuNvYI0b44"
      },
      "outputs": [],
      "source": [
        "# @title Provide Entry Details\n",
        "# @markdown To compute the decomposition energy of a provided structure, please\n",
        "# @markdown fill out the composition and Corrected Energy in the form below.\n",
        "# @markdown If no data is provided a random structure will be chosen.\n",
        "\n",
        "composition = '' # @param {type:\"string\"}\n",
        "energy = 0.0 # @param {type:\"number\"}\n",
        "\n",
        "assert composition, (\"Please provide a entry details in the form.\")\n",
        "composition = mg.Composition(composition)\n",
        "sample_entry = ComputedEntry(\n",
        "    composition=composition,\n",
        "    energy=energy,\n",
        ")\n",
        "chemsys = [str(el) for el in composition.elements]\n",
        "mg_entries = gather_convex_hull(chemsys)\n",
        "diagram = phase_diagram.PhaseDiagram(mg_entries)\n",
        "decomposition, decomposition_energy = diagram.get_decomp_and_e_above_hull(sample_entry, allow_negative=True)\n",
        "print(f\"Decomposition Energy: {decomposition_energy}.\")\n",
        "print(f\"Decomposition: {decomposition}\")"
      ]
    },
    {
      "cell_type": "code",
      "execution_count": null,
      "metadata": {
        "id": "7xHdRF2X9eFo"
      },
      "outputs": [],
      "source": []
    }
  ],
  "metadata": {
    "colab": {
      "provenance": []
    },
    "kernelspec": {
      "display_name": "Python 3",
      "name": "python3"
    },
    "language_info": {
      "name": "python"
    }
  },
  "nbformat": 4,
  "nbformat_minor": 0
}
