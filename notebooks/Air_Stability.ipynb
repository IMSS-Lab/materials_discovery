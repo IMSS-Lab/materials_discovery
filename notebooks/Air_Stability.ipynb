{
  "cells": [
    {
      "cell_type": "markdown",
      "metadata": {
        "id": "dt_e7kb3VOmr"
      },
      "source": [
        "# Air Stability\n",
        "\n",
        "The [GNoME](https://www.nature.com/articles/s41586-023-06735-9) dataset measures zero-temperature stability of the crystal structures. In this colab, we showcase how to extend this to compute air stability via Pymatgen's tooling for GrandPotentialPhaseDiagram and InterfacialReactivity classes.\n",
        "\n",
        "Note, this colab showcases how to compute the decomposition energies or reaction en"
      ]
    },
    {
      "cell_type": "markdown",
      "metadata": {
        "id": "iTju8OpnWuut"
      },
      "source": [
        "# Import Libraries"
      ]
    },
    {
      "cell_type": "code",
      "execution_count": null,
      "metadata": {
        "collapsed": true,
        "id": "4fartDI0XGVP"
      },
      "outputs": [],
      "source": [
        "!pip install pymatgen"
      ]
    },
    {
      "cell_type": "code",
      "execution_count": null,
      "metadata": {
        "id": "NnWJtMdUBi98"
      },
      "outputs": [],
      "source": [
        "from typing import List, Tuple\n",
        "\n",
        "import itertools\n",
        "import json\n",
        "import os\n",
        "import pandas as pd\n",
        "\n",
        "import pymatgen as mg\n",
        "from pymatgen.entries.computed_entries import ComputedEntry\n",
        "from pymatgen.analysis import phase_diagram"
      ]
    },
    {
      "cell_type": "markdown",
      "metadata": {
        "id": "RlW9MB4LWsJw"
      },
      "source": [
        "## Download the Dataset"
      ]
    },
    {
      "cell_type": "code",
      "execution_count": null,
      "metadata": {
        "id": "z6EpVu5zAA3u"
      },
      "outputs": [],
      "source": [
        "PUBLIC_LINK = \"https://storage.googleapis.com/\"\n",
        "BUCKET_NAME = \"gdm_materials_discovery\"\n",
        "\n",
        "FOLDER_NAME = \"gnome_data\"\n",
        "FILES = (\n",
        "    \"stable_materials_summary.csv\",\n",
        ")\n",
        "\n",
        "EXTERNAL_FOLDER_NAME = \"external_data\"\n",
        "EXTERNAL_FILES = (\n",
        "    \"external_materials_summary.csv\",\n",
        ")\n",
        "\n",
        "def download_from_link(link: str, output_dir: str):\n",
        "  \"\"\"Download a file from a public link using wget.\"\"\"\n",
        "  os.system(f\"wget {link} -P {output_dir}\")\n",
        "\n",
        "parent_directory = os.path.join(PUBLIC_LINK, BUCKET_NAME)\n",
        "for filename in FILES:\n",
        "  public_link = os.path.join(parent_directory, FOLDER_NAME, filename)\n",
        "  download_from_link(public_link, '.')\n",
        "\n",
        "for filename in EXTERNAL_FILES:\n",
        "  public_link = os.path.join(parent_directory, EXTERNAL_FOLDER_NAME, filename)\n",
        "  download_from_link(public_link, '.')"
      ]
    },
    {
      "cell_type": "markdown",
      "metadata": {
        "id": "2eUr0Z-iWxjs"
      },
      "source": [
        "## Preprocess the GNoME Dataset\n",
        "\n"
      ]
    },
    {
      "cell_type": "code",
      "execution_count": null,
      "metadata": {
        "colab": {
          "base_uri": "https://localhost:8080/",
          "height": 582
        },
        "id": "G8U7YBHw9ECY",
        "outputId": "29aa43f4-24cc-4925-e4fa-b05ab9ea14e7"
      },
      "outputs": [],
      "source": [
        "gnome_crystals = pd.read_csv('stable_materials_summary.csv', index_col=0)\n",
        "gnome_crystals"
      ]
    },
    {
      "cell_type": "code",
      "execution_count": null,
      "metadata": {
        "colab": {
          "base_uri": "https://localhost:8080/",
          "height": 423
        },
        "id": "daK636FDwEWh",
        "outputId": "e87762d2-7bdd-4d9e-ca9e-ccbe02c54d5f"
      },
      "outputs": [],
      "source": [
        "reference_crystals = pd.read_csv('external_materials_summary.csv')\n",
        "reference_crystals"
      ]
    },
    {
      "cell_type": "code",
      "execution_count": null,
      "metadata": {
        "id": "dxb5seQGpXi7"
      },
      "outputs": [],
      "source": [
        "def annotate_chemical_system(crystals: pd.DataFrame) -> pd.DataFrame:\n",
        "  chemical_systems = []\n",
        "  for i, e in enumerate(crystals['Elements']):\n",
        "    try:\n",
        "      # replace single quotes with double quotes to avoid having to use python eval\n",
        "      chemsys = json.loads(e.replace(\"'\", '\"'))\n",
        "      chemical_systems.append(tuple(sorted(chemsys)))\n",
        "    except:\n",
        "      print(e)\n",
        "  crystals['Chemical System'] = chemical_systems\n",
        "  return crystals"
      ]
    },
    {
      "cell_type": "code",
      "execution_count": null,
      "metadata": {
        "id": "Zn3hsZrlpPO8"
      },
      "outputs": [],
      "source": [
        "# Preprocess crystal structure\n",
        "gnome_crystals = annotate_chemical_system(gnome_crystals)\n",
        "reference_crystals = annotate_chemical_system(reference_crystals)"
      ]
    },
    {
      "cell_type": "code",
      "execution_count": null,
      "metadata": {
        "id": "hGFBY3jPr35l"
      },
      "outputs": [],
      "source": [
        "all_crystals = pd.concat([gnome_crystals, reference_crystals], ignore_index=True)\n",
        "required_columns = ['Composition', 'NSites', 'Corrected Energy', 'Formation Energy Per Atom', 'Chemical System']\n",
        "minimal_entries = all_crystals[required_columns]\n",
        "grouped_entries = minimal_entries.groupby('Chemical System')"
      ]
    },
    {
      "cell_type": "markdown",
      "metadata": {
        "id": "2u8e-NUksrcw"
      },
      "source": [
        "## Choose a Random Structure\n",
        "\n",
        "A random structure is chosen to compute the decomposition energy for."
      ]
    },
    {
      "cell_type": "code",
      "execution_count": null,
      "metadata": {
        "id": "Ti1ONRS_9Q0r"
      },
      "outputs": [],
      "source": [
        "# Choose a sample crystal\n",
        "binaries = gnome_crystals[gnome_crystals['Chemical System'].map(len) == 2]\n",
        "sample = binaries.sample()"
      ]
    },
    {
      "cell_type": "code",
      "execution_count": null,
      "metadata": {
        "colab": {
          "base_uri": "https://localhost:8080/",
          "height": 164
        },
        "id": "k1e3Rpgp-ZFJ",
        "outputId": "78f60722-b5a4-4474-d4e2-77623b0e7c1b"
      },
      "outputs": [],
      "source": [
        "# The sample we have chosen and would like to visualize\n",
        "sample"
      ]
    },
    {
      "cell_type": "code",
      "execution_count": null,
      "metadata": {
        "id": "c41mUbFXsYSS"
      },
      "outputs": [],
      "source": [
        "chemsys = sample['Chemical System'].item()"
      ]
    },
    {
      "cell_type": "markdown",
      "metadata": {
        "id": "2PRDLb0EtFQ2"
      },
      "source": [
        "## Stability with Respect to Oxygen via GrandPotentialPhaseDiagram\n",
        "\n",
        "The code below provides an example of computing the stability with respect to the oxygen on the GrandPotentialPhaseDiagram."
      ]
    },
    {
      "cell_type": "code",
      "execution_count": null,
      "metadata": {
        "id": "Dl-LHvEetzjE"
      },
      "outputs": [],
      "source": [
        "from pymatgen.analysis import interface_reactions"
      ]
    },
    {
      "cell_type": "code",
      "execution_count": null,
      "metadata": {
        "id": "OJlvg7Kwtll1"
      },
      "outputs": [],
      "source": [
        "element = 'O'\n",
        "temperature = 300\n",
        "pressure = 21200\n",
        "chempot_oxygen = interface_reactions.InterfacialReactivity.get_chempot_correction(\n",
        "    element, temperature, pressure)\n",
        "u_o = -4.95 + chempot_oxygen"
      ]
    },
    {
      "cell_type": "code",
      "execution_count": null,
      "metadata": {
        "id": "UnTmEcpDse3i"
      },
      "outputs": [],
      "source": [
        "oxygen_chemsys = chemsys + ('O',)\n",
        "chempots = {mg.core.Element('O'): u_o}"
      ]
    },
    {
      "cell_type": "code",
      "execution_count": null,
      "metadata": {
        "id": "qCtF5ZZdtIS3"
      },
      "outputs": [],
      "source": [
        "def collect_phase_diagram_entries(\n",
        "    chemsys: Tuple[str, ...],\n",
        "    grouped_entries: pd.core.groupby.generic.DataFrameGroupBy,\n",
        "    minimal_entries: pd.DataFrame\n",
        ") -> List[ComputedEntry]:\n",
        "  phase_diagram_entries = []\n",
        "  for length in range(len(chemsys) + 1):\n",
        "    for subsystem in itertools.combinations(chemsys, length):\n",
        "      subsystem_key = tuple(sorted(subsystem))\n",
        "      subsystem_entries = grouped_entries.groups.get(subsystem_key, [])\n",
        "      if len(subsystem_entries):\n",
        "        phase_diagram_entries.append(minimal_entries.iloc[subsystem_entries])\n",
        "  phase_diagram_entries = pd.concat(phase_diagram_entries)\n",
        "\n",
        "  mg_entries = []\n",
        "\n",
        "  for _, row in phase_diagram_entries.iterrows():\n",
        "    composition = row['Composition']\n",
        "    formation_energy = row['Corrected Energy']\n",
        "    entry = ComputedEntry(composition, formation_energy)\n",
        "    mg_entries.append(entry)\n",
        "\n",
        "  return mg_entries"
      ]
    },
    {
      "cell_type": "code",
      "execution_count": null,
      "metadata": {
        "id": "cgKlq9KdulDI"
      },
      "outputs": [],
      "source": [
        "gnome_grand_diagram_entries = collect_phase_diagram_entries(oxygen_chemsys, grouped_entries, all_crystals)"
      ]
    },
    {
      "cell_type": "code",
      "execution_count": null,
      "metadata": {
        "id": "gWV3OzHRs3bS"
      },
      "outputs": [],
      "source": [
        "gnome_grand_diagram = phase_diagram.GrandPotentialPhaseDiagram(\n",
        "    gnome_grand_diagram_entries,\n",
        "    chempots=chempots)"
      ]
    },
    {
      "cell_type": "code",
      "execution_count": null,
      "metadata": {
        "id": "FQ8FOJw-uHjy"
      },
      "outputs": [],
      "source": [
        "sample_entry = ComputedEntry(\n",
        "    sample['Composition'].item(),\n",
        "    sample['Corrected Energy'].item(),\n",
        ")\n",
        "\n",
        "sample_grand_entry = phase_diagram.GrandPotPDEntry(\n",
        "    sample_entry,\n",
        "    chempots=chempots\n",
        ")"
      ]
    },
    {
      "cell_type": "code",
      "execution_count": null,
      "metadata": {
        "id": "jCxZpBdlcDZh"
      },
      "outputs": [],
      "source": [
        "decomposition, decomposition_energy = gnome_grand_diagram.get_decomp_and_e_above_hull(sample_grand_entry)"
      ]
    },
    {
      "cell_type": "code",
      "execution_count": null,
      "metadata": {
        "colab": {
          "base_uri": "https://localhost:8080/"
        },
        "id": "508AH63Mlbdw",
        "outputId": "31d05f50-cec6-420e-bb47-b937520074de"
      },
      "outputs": [],
      "source": [
        "# The decomposition energy of the provided structure with respect to oxgyen\n",
        "print(f'Decomposition energy with oxgyen: {decomposition_energy}')"
      ]
    },
    {
      "cell_type": "markdown",
      "metadata": {
        "id": "YlzgsXLhxCx4"
      },
      "source": [
        "## Stability with Respect to CO2 and H2O via InterfacialReactivity\n",
        "\n",
        "We also use the interfacial reactivity diagram in order to check stability with respect to carbon dioxide and water."
      ]
    },
    {
      "cell_type": "code",
      "execution_count": null,
      "metadata": {
        "id": "JppoLTP0wARP"
      },
      "outputs": [],
      "source": [
        "gnome_phase_diagram_entries = collect_phase_diagram_entries(\n",
        "    chemsys + ('H', 'C', 'O'),\n",
        "    grouped_entries,\n",
        "    all_crystals\n",
        ")\n",
        "gnome_phase_diagram = phase_diagram.PhaseDiagram(gnome_phase_diagram_entries)"
      ]
    },
    {
      "cell_type": "code",
      "execution_count": null,
      "metadata": {
        "colab": {
          "base_uri": "https://localhost:8080/"
        },
        "id": "ZsdB_BcjxKJy",
        "outputId": "ea070171-49c5-4294-e85d-2c38522af280"
      },
      "outputs": [],
      "source": [
        "carbon_dioxide = mg.core.Composition('CO2')\n",
        "gnome_co2_rxns = interface_reactions.InterfacialReactivity(\n",
        "    sample_entry.composition,\n",
        "    carbon_dioxide,\n",
        "    gnome_phase_diagram,\n",
        "    use_hull_energy=True,\n",
        ")\n",
        "co2_stability = gnome_co2_rxns.minimum[1]\n",
        "co2_stability"
      ]
    },
    {
      "cell_type": "code",
      "execution_count": null,
      "metadata": {
        "colab": {
          "base_uri": "https://localhost:8080/"
        },
        "id": "0IGCXABcxZGd",
        "outputId": "37865781-dcf8-48f0-e237-9e7f93988547"
      },
      "outputs": [],
      "source": [
        "water = mg.core.Composition('H2O')\n",
        "gnome_h2o_rxns = interface_reactions.InterfacialReactivity(\n",
        "    sample_entry.composition,\n",
        "    water,\n",
        "    gnome_phase_diagram,\n",
        "    use_hull_energy=True,\n",
        ")\n",
        "h2o_stability = gnome_h2o_rxns.minimum[1]\n",
        "h2o_stability"
      ]
    },
    {
      "cell_type": "code",
      "execution_count": null,
      "metadata": {
        "id": "4pgg8wbVx0LU"
      },
      "outputs": [],
      "source": []
    }
  ],
  "metadata": {
    "colab": {
      "provenance": []
    },
    "kernelspec": {
      "display_name": "Python 3",
      "name": "python3"
    },
    "language_info": {
      "name": "python"
    }
  },
  "nbformat": 4,
  "nbformat_minor": 0
}
