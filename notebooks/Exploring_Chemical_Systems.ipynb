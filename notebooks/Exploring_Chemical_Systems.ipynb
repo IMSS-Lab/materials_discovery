{
  "cells": [
    {
      "cell_type": "markdown",
      "metadata": {
        "id": "dt_e7kb3VOmr"
      },
      "source": [
        "# Exploring Chemical Systems\n",
        "\n",
        "The [GNoME](https://www.nature.com/articles/s41586-023-06735-9) dataset adds many new computationally-stable crystals to various families of interest. This colab, similar to the decomposition energy one, extracts families of interest from the provided datasets and uses Pymatgen's plotting capabilities to compare to stable entries from a snapshot of Materails Project."
      ]
    },
    {
      "cell_type": "markdown",
      "metadata": {
        "id": "iTju8OpnWuut"
      },
      "source": [
        "# Import Libraries"
      ]
    },
    {
      "cell_type": "code",
      "execution_count": null,
      "metadata": {
        "collapsed": true,
        "id": "4fartDI0XGVP"
      },
      "outputs": [],
      "source": [
        "!pip install pymatgen"
      ]
    },
    {
      "cell_type": "code",
      "execution_count": null,
      "metadata": {
        "id": "NnWJtMdUBi98"
      },
      "outputs": [],
      "source": [
        "from typing import List, Tuple\n",
        "\n",
        "import itertools\n",
        "import json\n",
        "import os\n",
        "import pandas as pd\n",
        "import re\n",
        "\n",
        "import pymatgen as mg\n",
        "from pymatgen.entries.computed_entries import ComputedEntry\n",
        "from pymatgen.analysis import phase_diagram"
      ]
    },
    {
      "cell_type": "markdown",
      "metadata": {
        "id": "RlW9MB4LWsJw"
      },
      "source": [
        "## Download the Dataset"
      ]
    },
    {
      "cell_type": "code",
      "execution_count": null,
      "metadata": {
        "id": "z6EpVu5zAA3u"
      },
      "outputs": [],
      "source": [
        "PUBLIC_LINK = \"https://storage.googleapis.com/\"\n",
        "BUCKET_NAME = \"gdm_materials_discovery\"\n",
        "\n",
        "FOLDER_NAME = \"gnome_data\"\n",
        "FILES = (\n",
        "    \"stable_materials_summary.csv\",\n",
        ")\n",
        "\n",
        "EXTERNAL_FOLDER_NAME = \"external_data\"\n",
        "EXTERNAL_FILES = (\n",
        "    \"mp_snapshot_summary.csv\",\n",
        "    \"external_materials_summary.csv\",\n",
        ")\n",
        "\n",
        "def download_from_link(link: str, output_dir: str):\n",
        "  \"\"\"Download a file from a public link using wget.\"\"\"\n",
        "  os.system(f\"wget {link} -P {output_dir}\")\n",
        "\n",
        "parent_directory = os.path.join(PUBLIC_LINK, BUCKET_NAME)\n",
        "for filename in FILES:\n",
        "  public_link = os.path.join(parent_directory, FOLDER_NAME, filename)\n",
        "  download_from_link(public_link, '.')\n",
        "\n",
        "for filename in EXTERNAL_FILES:\n",
        "  public_link = os.path.join(parent_directory, EXTERNAL_FOLDER_NAME, filename)\n",
        "  download_from_link(public_link, '.')"
      ]
    },
    {
      "cell_type": "markdown",
      "metadata": {
        "id": "2eUr0Z-iWxjs"
      },
      "source": [
        "## Preprocess the GNoME Dataset\n",
        "\n"
      ]
    },
    {
      "cell_type": "code",
      "execution_count": null,
      "metadata": {
        "id": "G8U7YBHw9ECY"
      },
      "outputs": [],
      "source": [
        "gnome_crystals = pd.read_csv('stable_materials_summary.csv', index_col=0)\n",
        "gnome_crystals"
      ]
    },
    {
      "cell_type": "code",
      "execution_count": null,
      "metadata": {
        "id": "daK636FDwEWh"
      },
      "outputs": [],
      "source": [
        "reference_crystals = pd.read_csv('external_materials_summary.csv')\n",
        "reference_crystals"
      ]
    },
    {
      "cell_type": "code",
      "execution_count": null,
      "metadata": {
        "id": "2Uk1fThzWSm6"
      },
      "outputs": [],
      "source": [
        "# Snapshot of Materials Project with stable entries\n",
        "mp_crystals = pd.read_csv('mp_snapshot_summary.csv')\n",
        "mp_crystals"
      ]
    },
    {
      "cell_type": "code",
      "execution_count": null,
      "metadata": {
        "id": "dxb5seQGpXi7"
      },
      "outputs": [],
      "source": [
        "def annotate_chemical_system(crystals: pd.DataFrame) -> pd.DataFrame:\n",
        "  chemical_systems = []\n",
        "  for i, e in enumerate(crystals['Elements']):\n",
        "    # replace single quotes with double quotes to avoid having to use python eval\n",
        "    chemsys = json.loads(e.replace(\"'\", '\"'))\n",
        "    chemical_systems.append(tuple(sorted(chemsys)))\n",
        "  crystals['Chemical System'] = chemical_systems\n",
        "  return crystals"
      ]
    },
    {
      "cell_type": "code",
      "execution_count": null,
      "metadata": {
        "id": "Zn3hsZrlpPO8"
      },
      "outputs": [],
      "source": [
        "# Preprocess crystal structure\n",
        "gnome_crystals = annotate_chemical_system(gnome_crystals)\n",
        "reference_crystals = annotate_chemical_system(reference_crystals)\n",
        "mp_crystals = annotate_chemical_system(mp_crystals)"
      ]
    },
    {
      "cell_type": "code",
      "execution_count": null,
      "metadata": {
        "id": "hGFBY3jPr35l"
      },
      "outputs": [],
      "source": [
        "all_crystals = pd.concat([gnome_crystals, reference_crystals], ignore_index=True)\n",
        "required_columns = ['Composition', 'NSites', 'Corrected Energy', 'Formation Energy Per Atom', 'Chemical System']\n",
        "minimal_entries = all_crystals[required_columns]"
      ]
    },
    {
      "cell_type": "code",
      "execution_count": null,
      "metadata": {
        "id": "7_eHaw2CWt_d"
      },
      "outputs": [],
      "source": [
        "# Group entries by chemical system in order to allow for aggregation\n",
        "grouped_entries = minimal_entries.groupby('Chemical System')\n",
        "mp_entries = mp_crystals.groupby('Chemical System')"
      ]
    },
    {
      "cell_type": "markdown",
      "metadata": {
        "id": "2u8e-NUksrcw"
      },
      "source": [
        "## Choose a Chemical System\n",
        "\n",
        "If not provided, a random binary, ternary, or quaternary system is chosen."
      ]
    },
    {
      "cell_type": "code",
      "execution_count": null,
      "metadata": {
        "id": "Ti1ONRS_9Q0r"
      },
      "outputs": [],
      "source": [
        "# @title Provide Details of Chemical System\n",
        "# @markdown To explore the chemical system, please provide a separated list of elements.\n",
        "# @markdown If no data is provided a random structure will be chosen.\n",
        "\n",
        "chemsys = '' # @param {type:\"string\"}\n",
        "\n",
        "if chemsys == '' or chemsys == 'random':\n",
        "  # Choose a random crystal in GNoME and visualize the convex hull\n",
        "  plottable = gnome_crystals[gnome_crystals['Chemical System'].map(len) < 4]\n",
        "  sample = plottable.sample()\n",
        "  chemsys = sample['Chemical System'].item()\n",
        "  print(\"No chemical system provided.\")\n",
        "  print(f\"A random chemical system was chosen: {chemsys}\")\n",
        "else:\n",
        "  chemsys = tuple(re.split('\\W+', chemsys))"
      ]
    },
    {
      "cell_type": "markdown",
      "metadata": {
        "id": "2PRDLb0EtFQ2"
      },
      "source": [
        "## Gather Entries from the Chemical System"
      ]
    },
    {
      "cell_type": "code",
      "execution_count": null,
      "metadata": {
        "id": "qCtF5ZZdtIS3"
      },
      "outputs": [],
      "source": [
        "def collect_phase_diagram_entries(\n",
        "    chemsys: Tuple[str, ...],\n",
        "    grouped_entries: pd.core.groupby.generic.DataFrameGroupBy,\n",
        "    minimal_entries: pd.DataFrame\n",
        ") -> List[ComputedEntry]:\n",
        "  phase_diagram_entries = []\n",
        "  for length in range(len(chemsys) + 1):\n",
        "    for subsystem in itertools.combinations(chemsys, length):\n",
        "      subsystem_key = tuple(sorted(subsystem))\n",
        "      subsystem_entries = grouped_entries.groups.get(subsystem_key, [])\n",
        "      if len(subsystem_entries):\n",
        "        phase_diagram_entries.append(minimal_entries.iloc[subsystem_entries])\n",
        "  phase_diagram_entries = pd.concat(phase_diagram_entries)\n",
        "\n",
        "  mg_entries = []\n",
        "\n",
        "  for _, row in phase_diagram_entries.iterrows():\n",
        "    composition = row['Composition']\n",
        "    formation_energy = row['Corrected Energy']\n",
        "    entry = ComputedEntry(composition, formation_energy)\n",
        "    mg_entries.append(entry)\n",
        "\n",
        "  return mg_entries"
      ]
    },
    {
      "cell_type": "code",
      "execution_count": null,
      "metadata": {
        "id": "cgKlq9KdulDI"
      },
      "outputs": [],
      "source": [
        "# Convert to mg.ComputedEntries for used with phase_diagram tooling\n",
        "gnome_phase_diagram_entries = collect_phase_diagram_entries(chemsys, grouped_entries, all_crystals)\n",
        "mp_phase_diagram_entries = collect_phase_diagram_entries(chemsys, mp_entries, mp_crystals)"
      ]
    },
    {
      "cell_type": "markdown",
      "metadata": {
        "id": "Sy1cGfeNyhpw"
      },
      "source": [
        "## Compute Phase Diagrams"
      ]
    },
    {
      "cell_type": "code",
      "execution_count": null,
      "metadata": {
        "id": "YiUcTMVwyydC"
      },
      "outputs": [],
      "source": [
        "gnome_phase_diagram = phase_diagram.PhaseDiagram(gnome_phase_diagram_entries)\n",
        "mp_phase_diagram = phase_diagram.PhaseDiagram(mp_phase_diagram_entries)"
      ]
    },
    {
      "cell_type": "markdown",
      "metadata": {
        "id": "s1Ri-PEPbAhJ"
      },
      "source": [
        "## GNoME Phase Diagram for the Chemical System"
      ]
    },
    {
      "cell_type": "code",
      "execution_count": null,
      "metadata": {
        "id": "GBFOmobzy7kR"
      },
      "outputs": [],
      "source": [
        "gnome_pd_plot = phase_diagram.PDPlotter(gnome_phase_diagram)\n",
        "gnome_pd_plot.get_plot()"
      ]
    },
    {
      "cell_type": "markdown",
      "metadata": {
        "id": "dnTtiKmna6W1"
      },
      "source": [
        "## Materials Project Phase Diagram for the Chemical System\n",
        "\n",
        "Below, we plot the phase diagram from a snapshot of Materials Project."
      ]
    },
    {
      "cell_type": "code",
      "execution_count": null,
      "metadata": {
        "id": "Pi8NIMR5zxEY"
      },
      "outputs": [],
      "source": [
        "mp_pd_plot = phase_diagram.PDPlotter(mp_phase_diagram)\n",
        "mp_pd_plot.get_plot()"
      ]
    },
    {
      "cell_type": "markdown",
      "metadata": {
        "id": "q0y1tfWtcAWs"
      },
      "source": [
        "## Joint Convex Hull\n"
      ]
    },
    {
      "cell_type": "code",
      "execution_count": null,
      "metadata": {
        "id": "A0Xeg7uQbfm4"
      },
      "outputs": [],
      "source": [
        "joint_phase_diagram = phase_diagram.PhaseDiagram(\n",
        "    gnome_phase_diagram_entries + mp_phase_diagram_entries)\n",
        "joint_pd_plot = phase_diagram.PDPlotter(joint_phase_diagram)\n",
        "joint_pd_plot.get_plot()"
      ]
    },
    {
      "cell_type": "markdown",
      "metadata": {
        "id": "aSrdMxbhRhCS"
      },
      "source": [
        "# Plot GNoME Convex Hull in a Single Cell\n",
        "\n",
        "Finally, we provide a single cell that can plot the GNoME convex hull. The form on the right can be used to rapidly plot new chemical systems."
      ]
    },
    {
      "cell_type": "code",
      "execution_count": null,
      "metadata": {
        "id": "3xRRMLptRkYm"
      },
      "outputs": [],
      "source": [
        "# @title Provide Details of Chemical System\n",
        "# @markdown To explore the chemical system, please provide a separated list of elements.\n",
        "# @markdown If no data is provided a random structure will be chosen.\n",
        "\n",
        "chemsys = 'Na-Zn-P' # @param {type:\"string\"}\n",
        "\n",
        "assert chemsys, \"No chemical system provided\"\n",
        "chemsys = tuple(re.split('\\W+', chemsys))\n",
        "gnome_phase_diagram_entries = collect_phase_diagram_entries(chemsys, grouped_entries, all_crystals)\n",
        "gnome_phase_diagram = phase_diagram.PhaseDiagram(gnome_phase_diagram_entries)\n",
        "gnome_pd_plot = phase_diagram.PDPlotter(gnome_phase_diagram)\n",
        "gnome_pd_plot.get_plot()"
      ]
    },
    {
      "cell_type": "code",
      "execution_count": null,
      "metadata": {
        "id": "05fjpceoTnbR"
      },
      "outputs": [],
      "source": []
    }
  ],
  "metadata": {
    "colab": {
      "provenance": []
    },
    "kernelspec": {
      "display_name": "Python 3",
      "name": "python3"
    },
    "language_info": {
      "name": "python"
    }
  },
  "nbformat": 4,
  "nbformat_minor": 0
}
