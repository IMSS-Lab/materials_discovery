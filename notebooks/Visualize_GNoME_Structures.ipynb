{
  "cells": [
    {
      "cell_type": "markdown",
      "metadata": {
        "id": "dt_e7kb3VOmr"
      },
      "source": [
        "# Visualize GNoME Crystal Structures\n",
        "\n",
        "The stable crystals released with the [GNoME](https://www.nature.com/articles/s41586-023-06735-9) paper cover a broad range of the periodic table and exhibit many new prototypes. In this colab, we showcase how the provided dataset can be used with various visualization utilities, allowing researchers to browse the dataset and explore the provided crystal structures."
      ]
    },
    {
      "cell_type": "markdown",
      "metadata": {
        "id": "iTju8OpnWuut"
      },
      "source": [
        "# Install Visualization Libraries"
      ]
    },
    {
      "cell_type": "code",
      "execution_count": null,
      "metadata": {
        "colab": {
          "base_uri": "https://localhost:8080/"
        },
        "collapsed": true,
        "id": "ZILRY2uJuJJz",
        "outputId": "e8467cca-6ef8-4ebe-a0e9-2178e9c5b217"
      },
      "outputs": [],
      "source": [
        "#@markdown Installation may require restarting the current colab kernel.\n",
        "!pip install -q condacolab\n",
        "import condacolab\n",
        "condacolab.install()"
      ]
    },
    {
      "cell_type": "code",
      "execution_count": null,
      "metadata": {
        "colab": {
          "base_uri": "https://localhost:8080/"
        },
        "collapsed": true,
        "id": "4fartDI0XGVP",
        "outputId": "da02ecf0-8824-402d-d766-c9df19b95267"
      },
      "outputs": [],
      "source": [
        "!pip install vtk matplotlib x3d vapory pymatgen ase\n",
        "!mamba install -c conda-forge nglview ipywidgets=7"
      ]
    },
    {
      "cell_type": "code",
      "execution_count": null,
      "metadata": {
        "id": "NnWJtMdUBi98"
      },
      "outputs": [],
      "source": [
        "from typing import Tuple\n",
        "\n",
        "import os\n",
        "import pandas as pd\n",
        "import shutil\n",
        "import tempfile\n",
        "import zipfile\n",
        "\n",
        "import pymatgen as mg\n",
        "import pymatgen.io.cif\n",
        "\n",
        "import ase.io.cif\n",
        "import ase.visualize\n",
        "import ase\n",
        "\n",
        "# Enable custom widgets in colab\n",
        "from google.colab import output\n",
        "output.enable_custom_widget_manager()"
      ]
    },
    {
      "cell_type": "markdown",
      "metadata": {
        "id": "RlW9MB4LWsJw"
      },
      "source": [
        "# Download the Dataset"
      ]
    },
    {
      "cell_type": "code",
      "execution_count": null,
      "metadata": {
        "id": "z6EpVu5zAA3u"
      },
      "outputs": [],
      "source": [
        "PUBLIC_LINK = \"https://storage.googleapis.com/\"\n",
        "BUCKET_NAME = \"gdm_materials_discovery\"\n",
        "\n",
        "FOLDER_NAME = \"gnome_data\"\n",
        "FILES = (\n",
        "    \"stable_materials_summary.csv\",\n",
        "    \"by_reduced_formula.zip\",\n",
        ")\n",
        "\n",
        "def download_from_link(link: str, output_dir: str):\n",
        "  \"\"\"Download a file from a public link using wget.\"\"\"\n",
        "  os.system(f\"wget {link} -P {output_dir}\")\n",
        "\n",
        "parent_directory = os.path.join(PUBLIC_LINK, BUCKET_NAME)\n",
        "for filename in FILES:\n",
        "  public_link = os.path.join(parent_directory, FOLDER_NAME, filename)\n",
        "  download_from_link(public_link, '.')\n",
        "\n",
        "# Read the contents of the zipfile\n",
        "# Due to the size of the release, this takes about 30 seconds but prevents\n",
        "# the need to extract all files in order to read individual structures\n",
        "z = zipfile.ZipFile('by_reduced_formula.zip')"
      ]
    },
    {
      "cell_type": "markdown",
      "metadata": {
        "id": "2eUr0Z-iWxjs"
      },
      "source": [
        "# Choose A Crystal Structure"
      ]
    },
    {
      "cell_type": "code",
      "execution_count": null,
      "metadata": {
        "colab": {
          "base_uri": "https://localhost:8080/",
          "height": 669
        },
        "id": "G8U7YBHw9ECY",
        "outputId": "44ff8f3a-8f1c-4b6d-91b6-d4ed4bdda989"
      },
      "outputs": [],
      "source": [
        "# Parse the summary csv\n",
        "gnome_crystals = pd.read_csv('stable_materials_summary.csv', index_col=0)\n",
        "gnome_crystals"
      ]
    },
    {
      "cell_type": "code",
      "execution_count": null,
      "metadata": {
        "id": "Ti1ONRS_9Q0r"
      },
      "outputs": [],
      "source": [
        "def obtain_structure(\n",
        "    reduced_formula: str | None = None,\n",
        ") -> Tuple[ase.Atoms, mg.core.Structure]:\n",
        "  \"\"\"Obtain the structure from a provided reduced formula.\"\"\"\n",
        "  temp_dir = tempfile.TemporaryDirectory()\n",
        "  extension = f\"{reduced_formula}.CIF\"\n",
        "  temp_path = os.path.join(temp_dir.name, extension)\n",
        "\n",
        "  with z.open(os.path.join('by_reduced_formula', extension)) as zf:\n",
        "    with open(temp_path, 'wb') as fp:\n",
        "      shutil.copyfileobj(zf, fp)\n",
        "\n",
        "  atoms = ase.io.read(temp_path)\n",
        "  structure = mg.core.Structure.from_file(temp_path)\n",
        "  temp_dir.cleanup()\n",
        "  return atoms, structure"
      ]
    },
    {
      "cell_type": "code",
      "execution_count": null,
      "metadata": {
        "colab": {
          "base_uri": "https://localhost:8080/"
        },
        "id": "oIYctIyobRl1",
        "outputId": "1763daeb-13b8-42ea-adb2-4eeb52b3a8da"
      },
      "outputs": [],
      "source": [
        "# @title Provide a reduced formula to select from the GNoME dataset.\n",
        "# @markdown For a random structure, set the reduced formula to 'random' \\\\\n",
        "# @markdown Make sure to run this cell to select this select the formula.\n",
        "\n",
        "reduced_formula = 'random' # @param {type:\"string\"}\n",
        "\n",
        "if reduced_formula == 'random':\n",
        "  sample = gnome_crystals.sample()\n",
        "  reduced_formula = sample['Reduced Formula'].item()\n",
        "else:\n",
        "  # Ensure that composition entries are converted to reduced formulas\n",
        "  reduced_formula = mg.core.Composition(reduced_formula).reduced_formula\n",
        "  sample = gnome_crystals[\n",
        "      gnome_crystals['Reduced Formula'] == reduced_formula].iloc[0:1]\n",
        "\n",
        "atoms, structure = obtain_structure(reduced_formula)"
      ]
    },
    {
      "cell_type": "code",
      "execution_count": null,
      "metadata": {
        "colab": {
          "base_uri": "https://localhost:8080/",
          "height": 162
        },
        "id": "k1e3Rpgp-ZFJ",
        "outputId": "e7ba37a5-267d-463b-a5e0-87f6cb668694"
      },
      "outputs": [],
      "source": [
        "sample"
      ]
    },
    {
      "cell_type": "markdown",
      "metadata": {
        "id": "oRHDcpONZKdw"
      },
      "source": [
        "## Example \\#1: X3D via ASE\n",
        "\n",
        "A simplified viewer based on X3D is provided by [ASE](https://wiki.fysik.dtu.dk/ase/) and provides visualization capabilities with minimal addtional dependencies.\n"
      ]
    },
    {
      "cell_type": "code",
      "execution_count": null,
      "metadata": {
        "colab": {
          "base_uri": "https://localhost:8080/",
          "height": 317
        },
        "id": "Q6T-UXmQXEe5",
        "outputId": "b237eb89-a301-485b-b2b9-2fe1bb7249f0"
      },
      "outputs": [],
      "source": [
        "ase.visualize.view(atoms, viewer='x3d')"
      ]
    },
    {
      "cell_type": "markdown",
      "metadata": {
        "id": "cC0yPVTZZkjE"
      },
      "source": [
        "## Example \\#2: nglview via ASE\n",
        "\n",
        "nglview provides tooling to interactively view molcular structures, with significant flexibility including colors of the associated atoms. Notably, this tooling relies on ipywidgets (where the latest version 8 often fails to display\n",
        "in colab). We have fixed this by using ipywidgets 7 in the installation abvoe\n",
        "but note that adjustments might cause this tooling to not be displayed."
      ]
    },
    {
      "cell_type": "code",
      "execution_count": null,
      "metadata": {
        "colab": {
          "base_uri": "https://localhost:8080/",
          "height": 517,
          "referenced_widgets": [
            "159466cd919a4af29d22b88e0d8fabc8",
            "40654d4ef5d5447dbf580936d425ac00",
            "8d9305761f534603bbe5b6498a7c745a",
            "005794dbc9784aaaa9f2b6068f3a6939",
            "5fe5c958c716423792b1701083140507",
            "5df7b46ee36848ea80583d93254f69e6",
            "ed9c8de296724d579324dff9a3f478f0",
            "759defd054b64febac7ea6421d0e82e1",
            "4a35458694e54108b95d0f3f9cdaf900",
            "d51c3a4bf50b41c5ba08442696ca6574",
            "7fd8365e612c408aa30c2ade553fbab1",
            "9b555085bbf2461f8eac1164a40d087d",
            "d02cebf6de25443f8aeaa5639b478075",
            "746adab19aa54513a98fa4269840e1b1",
            "f144948d63564e0ba7bd16c6454b0b6b",
            "1316a182f1ce49e8a104d71d41048061",
            "772611676d8b432abaf8765abaed342a",
            "7dae9a5b2a384b4ca2b4a034661dcb95",
            "27e7ddf386424e698122301474966eec",
            "02bdf63c6b3d41b6ae70f5d918cf0cc9",
            "b8f5c47265854f0589b98cf1ed0ccf9d",
            "33714d0684924533a44e8ba86d324ce5",
            "333eb701173e4a71a29d0fc578e00155",
            "7721b1c64ee14279a4c475068faf46c0",
            "ecaaafbe7b024ac0bd2a4aa4b67a23b1",
            "e67f0f4ca25941ba83a301d6369ac2ac",
            "0ca82015edce43ecb549d64ee0947e9a",
            "428ba85bfb46467ea8f42296cfa49087"
          ]
        },
        "id": "wKY1rP_Bkwk-",
        "outputId": "e6856096-0e15-41b8-d657-e74a4eede341"
      },
      "outputs": [],
      "source": [
        "ase.visualize.view(atoms, viewer='ngl')"
      ]
    },
    {
      "cell_type": "markdown",
      "metadata": {
        "id": "ACqvd6Z82N9y"
      },
      "source": [
        "# Example \\#3: Matplotlib via ASE\n",
        "\n",
        "Finally, due to the prevalence of matplotlib, we also use ASE utilities to provide a strategy for creating figures from the associated crystal structure."
      ]
    },
    {
      "cell_type": "code",
      "execution_count": null,
      "metadata": {
        "colab": {
          "base_uri": "https://localhost:8080/",
          "height": 447
        },
        "id": "qog4tU8K2NCM",
        "outputId": "0b275fda-24bf-42fe-9391-dd63f7d5f720"
      },
      "outputs": [],
      "source": [
        "from ase.visualize.plot import plot_atoms\n",
        "plot_atoms(atoms)"
      ]
    },
    {
      "cell_type": "markdown",
      "metadata": {
        "id": "bP-EWSpN7zHS"
      },
      "source": [
        "Additional tooling for crystals structures is made available through libraries such as Pymatgen (in the pymatgen.vis library). We included the above 3 examples due to compatability with colabs, but if anyone wants to include additional visualization examples, please feel free to extend this colab."
      ]
    },
    {
      "cell_type": "markdown",
      "metadata": {
        "id": "HeLLR0n4W716"
      },
      "source": [
        "# Download files for local visualization:\n",
        "\n",
        "Finally, we provide a mechanism for downloading various formats of the chosen structure. Please adjust the desired format via the drop down bar on the right\n",
        "and run the cell below to download the associated file."
      ]
    },
    {
      "cell_type": "code",
      "execution_count": null,
      "metadata": {
        "colab": {
          "base_uri": "https://localhost:8080/",
          "height": 34
        },
        "id": "lOoBAh30vLs3",
        "outputId": "df1b3e95-ba88-4fb1-fc81-9c59aceeae1e"
      },
      "outputs": [],
      "source": [
        "from google.colab import files\n",
        "import tempfile\n",
        "import os\n",
        "from tempfile import mkstemp\n",
        "\n",
        "fmt = \"cif\" #@param ['cif', 'poscar', 'cssr', 'json', 'yaml', 'yml', 'xsf', 'mcsqs', 'res', 'pwmat']\n",
        "temp_dir = tempfile.TemporaryDirectory()\n",
        "filename = os.path.join(temp_dir.name, f\"{structure.reduced_formula}.{fmt}\")\n",
        "structure.to(filename, fmt=fmt)\n",
        "files.download(filename)\n",
        "temp_dir.cleanup()"
      ]
    },
    {
      "cell_type": "code",
      "execution_count": null,
      "metadata": {
        "id": "YAueJFrEdZ__"
      },
      "outputs": [],
      "source": []
    }
  ],
  "metadata": {
    "colab": {
      "collapsed_sections": [
        "iTju8OpnWuut"
      ],
      "provenance": []
    },
    "kernelspec": {
      "display_name": "Python 3",
      "name": "python3"
    },
    "language_info": {
      "name": "python"
    },
    "widgets": {
      "application/vnd.jupyter.widget-state+json": {
        "005794dbc9784aaaa9f2b6068f3a6939": {
          "model_module": "@jupyter-widgets/base",
          "model_module_version": "1.2.0",
          "model_name": "LayoutModel",
          "state": {
            "_model_module": "@jupyter-widgets/base",
            "_model_module_version": "1.2.0",
            "_model_name": "LayoutModel",
            "_view_count": null,
            "_view_module": "@jupyter-widgets/base",
            "_view_module_version": "1.2.0",
            "_view_name": "LayoutView",
            "align_content": null,
            "align_items": null,
            "align_self": null,
            "border": null,
            "bottom": null,
            "display": null,
            "flex": null,
            "flex_flow": null,
            "grid_area": null,
            "grid_auto_columns": null,
            "grid_auto_flow": null,
            "grid_auto_rows": null,
            "grid_column": null,
            "grid_gap": null,
            "grid_row": null,
            "grid_template_areas": null,
            "grid_template_columns": null,
            "grid_template_rows": null,
            "height": null,
            "justify_content": null,
            "justify_items": null,
            "left": null,
            "margin": null,
            "max_height": null,
            "max_width": null,
            "min_height": null,
            "min_width": null,
            "object_fit": null,
            "object_position": null,
            "order": null,
            "overflow": null,
            "overflow_x": null,
            "overflow_y": null,
            "padding": null,
            "right": null,
            "top": null,
            "visibility": null,
            "width": null
          }
        },
        "02bdf63c6b3d41b6ae70f5d918cf0cc9": {
          "model_module": "@jupyter-widgets/controls",
          "model_module_version": "1.5.0",
          "model_name": "DropdownModel",
          "state": {
            "_dom_classes": [],
            "_model_module": "@jupyter-widgets/controls",
            "_model_module_version": "1.5.0",
            "_model_name": "DropdownModel",
            "_options_labels": [
              "All",
              "Si",
              "Y",
              "Pt",
              "Ti"
            ],
            "_view_count": null,
            "_view_module": "@jupyter-widgets/controls",
            "_view_module_version": "1.5.0",
            "_view_name": "DropdownView",
            "description": "Show",
            "description_tooltip": null,
            "disabled": false,
            "index": 0,
            "layout": "IPY_MODEL_746adab19aa54513a98fa4269840e1b1",
            "style": "IPY_MODEL_f144948d63564e0ba7bd16c6454b0b6b"
          }
        },
        "0ca82015edce43ecb549d64ee0947e9a": {
          "model_module": "@jupyter-widgets/controls",
          "model_module_version": "1.5.0",
          "model_name": "ButtonModel",
          "state": {
            "_dom_classes": [],
            "_model_module": "@jupyter-widgets/controls",
            "_model_module_version": "1.5.0",
            "_model_name": "ButtonModel",
            "_view_count": null,
            "_view_module": "@jupyter-widgets/controls",
            "_view_module_version": "1.5.0",
            "_view_name": "ButtonView",
            "button_style": "",
            "description": "",
            "disabled": false,
            "icon": "compress",
            "layout": "IPY_MODEL_9b555085bbf2461f8eac1164a40d087d",
            "style": "IPY_MODEL_d02cebf6de25443f8aeaa5639b478075",
            "tooltip": ""
          }
        },
        "1316a182f1ce49e8a104d71d41048061": {
          "model_module": "@jupyter-widgets/base",
          "model_module_version": "1.2.0",
          "model_name": "LayoutModel",
          "state": {
            "_model_module": "@jupyter-widgets/base",
            "_model_module_version": "1.2.0",
            "_model_name": "LayoutModel",
            "_view_count": null,
            "_view_module": "@jupyter-widgets/base",
            "_view_module_version": "1.2.0",
            "_view_name": "LayoutView",
            "align_content": null,
            "align_items": null,
            "align_self": null,
            "border": null,
            "bottom": null,
            "display": null,
            "flex": null,
            "flex_flow": null,
            "grid_area": null,
            "grid_auto_columns": null,
            "grid_auto_flow": null,
            "grid_auto_rows": null,
            "grid_column": null,
            "grid_gap": null,
            "grid_row": null,
            "grid_template_areas": null,
            "grid_template_columns": null,
            "grid_template_rows": null,
            "height": null,
            "justify_content": null,
            "justify_items": null,
            "left": null,
            "margin": null,
            "max_height": null,
            "max_width": null,
            "min_height": null,
            "min_width": null,
            "object_fit": null,
            "object_position": null,
            "order": null,
            "overflow": null,
            "overflow_x": null,
            "overflow_y": null,
            "padding": null,
            "right": null,
            "top": null,
            "visibility": null,
            "width": null
          }
        },
        "159466cd919a4af29d22b88e0d8fabc8": {
          "model_module": "nglview-js-widgets",
          "model_module_version": "3.0.8",
          "model_name": "ColormakerRegistryModel",
          "state": {
            "_dom_classes": [],
            "_model_module": "nglview-js-widgets",
            "_model_module_version": "3.0.8",
            "_model_name": "ColormakerRegistryModel",
            "_msg_ar": [],
            "_msg_q": [],
            "_ready": true,
            "_view_count": null,
            "_view_module": "nglview-js-widgets",
            "_view_module_version": "3.0.8",
            "_view_name": "ColormakerRegistryView",
            "layout": "IPY_MODEL_40654d4ef5d5447dbf580936d425ac00"
          }
        },
        "27e7ddf386424e698122301474966eec": {
          "model_module": "@jupyter-widgets/controls",
          "model_module_version": "1.5.0",
          "model_name": "SliderStyleModel",
          "state": {
            "_model_module": "@jupyter-widgets/controls",
            "_model_module_version": "1.5.0",
            "_model_name": "SliderStyleModel",
            "_view_count": null,
            "_view_module": "@jupyter-widgets/base",
            "_view_module_version": "1.2.0",
            "_view_name": "StyleView",
            "description_width": "",
            "handle_color": null
          }
        },
        "333eb701173e4a71a29d0fc578e00155": {
          "model_module": "@jupyter-widgets/base",
          "model_module_version": "1.2.0",
          "model_name": "LayoutModel",
          "state": {
            "_model_module": "@jupyter-widgets/base",
            "_model_module_version": "1.2.0",
            "_model_name": "LayoutModel",
            "_view_count": null,
            "_view_module": "@jupyter-widgets/base",
            "_view_module_version": "1.2.0",
            "_view_name": "LayoutView",
            "align_content": null,
            "align_items": null,
            "align_self": null,
            "border": null,
            "bottom": null,
            "display": null,
            "flex": null,
            "flex_flow": null,
            "grid_area": null,
            "grid_auto_columns": null,
            "grid_auto_flow": null,
            "grid_auto_rows": null,
            "grid_column": null,
            "grid_gap": null,
            "grid_row": null,
            "grid_template_areas": null,
            "grid_template_columns": null,
            "grid_template_rows": null,
            "height": null,
            "justify_content": null,
            "justify_items": null,
            "left": null,
            "margin": null,
            "max_height": null,
            "max_width": null,
            "min_height": null,
            "min_width": null,
            "object_fit": null,
            "object_position": null,
            "order": null,
            "overflow": null,
            "overflow_x": null,
            "overflow_y": null,
            "padding": null,
            "right": null,
            "top": null,
            "visibility": null,
            "width": null
          }
        },
        "33714d0684924533a44e8ba86d324ce5": {
          "model_module": "@jupyter-widgets/controls",
          "model_module_version": "1.5.0",
          "model_name": "FloatSliderModel",
          "state": {
            "_dom_classes": [],
            "_model_module": "@jupyter-widgets/controls",
            "_model_module_version": "1.5.0",
            "_model_name": "FloatSliderModel",
            "_view_count": null,
            "_view_module": "@jupyter-widgets/controls",
            "_view_module_version": "1.5.0",
            "_view_name": "FloatSliderView",
            "continuous_update": true,
            "description": "Ball size",
            "description_tooltip": null,
            "disabled": false,
            "layout": "IPY_MODEL_7dae9a5b2a384b4ca2b4a034661dcb95",
            "max": 1.5,
            "min": 0,
            "orientation": "horizontal",
            "readout": true,
            "readout_format": ".2f",
            "step": 0.01,
            "style": "IPY_MODEL_27e7ddf386424e698122301474966eec",
            "value": 0.49999999999999994
          }
        },
        "40654d4ef5d5447dbf580936d425ac00": {
          "model_module": "@jupyter-widgets/base",
          "model_module_version": "1.2.0",
          "model_name": "LayoutModel",
          "state": {
            "_model_module": "@jupyter-widgets/base",
            "_model_module_version": "1.2.0",
            "_model_name": "LayoutModel",
            "_view_count": null,
            "_view_module": "@jupyter-widgets/base",
            "_view_module_version": "1.2.0",
            "_view_name": "LayoutView",
            "align_content": null,
            "align_items": null,
            "align_self": null,
            "border": null,
            "bottom": null,
            "display": null,
            "flex": null,
            "flex_flow": null,
            "grid_area": null,
            "grid_auto_columns": null,
            "grid_auto_flow": null,
            "grid_auto_rows": null,
            "grid_column": null,
            "grid_gap": null,
            "grid_row": null,
            "grid_template_areas": null,
            "grid_template_columns": null,
            "grid_template_rows": null,
            "height": null,
            "justify_content": null,
            "justify_items": null,
            "left": null,
            "margin": null,
            "max_height": null,
            "max_width": null,
            "min_height": null,
            "min_width": null,
            "object_fit": null,
            "object_position": null,
            "order": null,
            "overflow": null,
            "overflow_x": null,
            "overflow_y": null,
            "padding": null,
            "right": null,
            "top": null,
            "visibility": null,
            "width": null
          }
        },
        "428ba85bfb46467ea8f42296cfa49087": {
          "model_module": "@jupyter-widgets/controls",
          "model_module_version": "1.5.0",
          "model_name": "HBoxModel",
          "state": {
            "_dom_classes": [],
            "_model_module": "@jupyter-widgets/controls",
            "_model_module_version": "1.5.0",
            "_model_name": "HBoxModel",
            "_view_count": null,
            "_view_module": "@jupyter-widgets/controls",
            "_view_module_version": "1.5.0",
            "_view_name": "HBoxView",
            "box_style": "",
            "children": [
              "IPY_MODEL_759defd054b64febac7ea6421d0e82e1",
              "IPY_MODEL_4a35458694e54108b95d0f3f9cdaf900"
            ],
            "layout": "IPY_MODEL_d51c3a4bf50b41c5ba08442696ca6574"
          }
        },
        "4a35458694e54108b95d0f3f9cdaf900": {
          "model_module": "@jupyter-widgets/controls",
          "model_module_version": "1.5.0",
          "model_name": "IntSliderModel",
          "state": {
            "_dom_classes": [],
            "_model_module": "@jupyter-widgets/controls",
            "_model_module_version": "1.5.0",
            "_model_name": "IntSliderModel",
            "_view_count": null,
            "_view_module": "@jupyter-widgets/controls",
            "_view_module_version": "1.5.0",
            "_view_name": "IntSliderView",
            "continuous_update": true,
            "description": "",
            "description_tooltip": null,
            "disabled": false,
            "layout": "IPY_MODEL_5df7b46ee36848ea80583d93254f69e6",
            "max": 0,
            "min": 0,
            "orientation": "horizontal",
            "readout": true,
            "readout_format": "d",
            "step": 1,
            "style": "IPY_MODEL_ed9c8de296724d579324dff9a3f478f0",
            "value": 0
          }
        },
        "5df7b46ee36848ea80583d93254f69e6": {
          "model_module": "@jupyter-widgets/base",
          "model_module_version": "1.2.0",
          "model_name": "LayoutModel",
          "state": {
            "_model_module": "@jupyter-widgets/base",
            "_model_module_version": "1.2.0",
            "_model_name": "LayoutModel",
            "_view_count": null,
            "_view_module": "@jupyter-widgets/base",
            "_view_module_version": "1.2.0",
            "_view_name": "LayoutView",
            "align_content": null,
            "align_items": null,
            "align_self": null,
            "border": null,
            "bottom": null,
            "display": null,
            "flex": null,
            "flex_flow": null,
            "grid_area": null,
            "grid_auto_columns": null,
            "grid_auto_flow": null,
            "grid_auto_rows": null,
            "grid_column": null,
            "grid_gap": null,
            "grid_row": null,
            "grid_template_areas": null,
            "grid_template_columns": null,
            "grid_template_rows": null,
            "height": null,
            "justify_content": null,
            "justify_items": null,
            "left": null,
            "margin": null,
            "max_height": null,
            "max_width": null,
            "min_height": null,
            "min_width": null,
            "object_fit": null,
            "object_position": null,
            "order": null,
            "overflow": null,
            "overflow_x": null,
            "overflow_y": null,
            "padding": null,
            "right": null,
            "top": null,
            "visibility": null,
            "width": null
          }
        },
        "5fe5c958c716423792b1701083140507": {
          "model_module": "@jupyter-widgets/controls",
          "model_module_version": "1.5.0",
          "model_name": "DescriptionStyleModel",
          "state": {
            "_model_module": "@jupyter-widgets/controls",
            "_model_module_version": "1.5.0",
            "_model_name": "DescriptionStyleModel",
            "_view_count": null,
            "_view_module": "@jupyter-widgets/base",
            "_view_module_version": "1.2.0",
            "_view_name": "StyleView",
            "description_width": ""
          }
        },
        "746adab19aa54513a98fa4269840e1b1": {
          "model_module": "@jupyter-widgets/base",
          "model_module_version": "1.2.0",
          "model_name": "LayoutModel",
          "state": {
            "_model_module": "@jupyter-widgets/base",
            "_model_module_version": "1.2.0",
            "_model_name": "LayoutModel",
            "_view_count": null,
            "_view_module": "@jupyter-widgets/base",
            "_view_module_version": "1.2.0",
            "_view_name": "LayoutView",
            "align_content": null,
            "align_items": null,
            "align_self": null,
            "border": null,
            "bottom": null,
            "display": null,
            "flex": null,
            "flex_flow": null,
            "grid_area": null,
            "grid_auto_columns": null,
            "grid_auto_flow": null,
            "grid_auto_rows": null,
            "grid_column": null,
            "grid_gap": null,
            "grid_row": null,
            "grid_template_areas": null,
            "grid_template_columns": null,
            "grid_template_rows": null,
            "height": null,
            "justify_content": null,
            "justify_items": null,
            "left": null,
            "margin": null,
            "max_height": null,
            "max_width": null,
            "min_height": null,
            "min_width": null,
            "object_fit": null,
            "object_position": null,
            "order": null,
            "overflow": null,
            "overflow_x": null,
            "overflow_y": null,
            "padding": null,
            "right": null,
            "top": null,
            "visibility": null,
            "width": null
          }
        },
        "759defd054b64febac7ea6421d0e82e1": {
          "model_module": "@jupyter-widgets/controls",
          "model_module_version": "1.5.0",
          "model_name": "PlayModel",
          "state": {
            "_dom_classes": [],
            "_model_module": "@jupyter-widgets/controls",
            "_model_module_version": "1.5.0",
            "_model_name": "PlayModel",
            "_playing": false,
            "_repeat": false,
            "_view_count": null,
            "_view_module": "@jupyter-widgets/controls",
            "_view_module_version": "1.5.0",
            "_view_name": "PlayView",
            "description": "",
            "description_tooltip": null,
            "disabled": false,
            "interval": 100,
            "layout": "IPY_MODEL_005794dbc9784aaaa9f2b6068f3a6939",
            "max": 0,
            "min": 0,
            "show_repeat": true,
            "step": 1,
            "style": "IPY_MODEL_5fe5c958c716423792b1701083140507",
            "value": 0
          }
        },
        "7721b1c64ee14279a4c475068faf46c0": {
          "model_module": "@jupyter-widgets/controls",
          "model_module_version": "1.5.0",
          "model_name": "VBoxModel",
          "state": {
            "_dom_classes": [],
            "_model_module": "@jupyter-widgets/controls",
            "_model_module_version": "1.5.0",
            "_model_name": "VBoxModel",
            "_view_count": null,
            "_view_module": "@jupyter-widgets/controls",
            "_view_module_version": "1.5.0",
            "_view_name": "VBoxView",
            "box_style": "",
            "children": [
              "IPY_MODEL_02bdf63c6b3d41b6ae70f5d918cf0cc9",
              "IPY_MODEL_b8f5c47265854f0589b98cf1ed0ccf9d",
              "IPY_MODEL_33714d0684924533a44e8ba86d324ce5"
            ],
            "layout": "IPY_MODEL_333eb701173e4a71a29d0fc578e00155"
          }
        },
        "772611676d8b432abaf8765abaed342a": {
          "model_module": "@jupyter-widgets/controls",
          "model_module_version": "1.5.0",
          "model_name": "DescriptionStyleModel",
          "state": {
            "_model_module": "@jupyter-widgets/controls",
            "_model_module_version": "1.5.0",
            "_model_name": "DescriptionStyleModel",
            "_view_count": null,
            "_view_module": "@jupyter-widgets/base",
            "_view_module_version": "1.2.0",
            "_view_name": "StyleView",
            "description_width": ""
          }
        },
        "7dae9a5b2a384b4ca2b4a034661dcb95": {
          "model_module": "@jupyter-widgets/base",
          "model_module_version": "1.2.0",
          "model_name": "LayoutModel",
          "state": {
            "_model_module": "@jupyter-widgets/base",
            "_model_module_version": "1.2.0",
            "_model_name": "LayoutModel",
            "_view_count": null,
            "_view_module": "@jupyter-widgets/base",
            "_view_module_version": "1.2.0",
            "_view_name": "LayoutView",
            "align_content": null,
            "align_items": null,
            "align_self": null,
            "border": null,
            "bottom": null,
            "display": null,
            "flex": null,
            "flex_flow": null,
            "grid_area": null,
            "grid_auto_columns": null,
            "grid_auto_flow": null,
            "grid_auto_rows": null,
            "grid_column": null,
            "grid_gap": null,
            "grid_row": null,
            "grid_template_areas": null,
            "grid_template_columns": null,
            "grid_template_rows": null,
            "height": null,
            "justify_content": null,
            "justify_items": null,
            "left": null,
            "margin": null,
            "max_height": null,
            "max_width": null,
            "min_height": null,
            "min_width": null,
            "object_fit": null,
            "object_position": null,
            "order": null,
            "overflow": null,
            "overflow_x": null,
            "overflow_y": null,
            "padding": null,
            "right": null,
            "top": null,
            "visibility": null,
            "width": null
          }
        },
        "7fd8365e612c408aa30c2ade553fbab1": {
          "model_module": "nglview-js-widgets",
          "model_module_version": "3.0.8",
          "model_name": "NGLModel",
          "state": {
            "_camera_orientation": [
              16.77354172485895,
              0,
              0,
              0,
              0,
              16.77354172485895,
              0,
              0,
              0,
              0,
              16.77354172485895,
              0,
              -2.581999897956848,
              -4.049499988555908,
              -0.9879999756813049,
              1
            ],
            "_camera_str": "orthographic",
            "_dom_classes": [],
            "_gui_theme": null,
            "_ibtn_fullscreen": "IPY_MODEL_0ca82015edce43ecb549d64ee0947e9a",
            "_igui": null,
            "_iplayer": "IPY_MODEL_428ba85bfb46467ea8f42296cfa49087",
            "_model_module": "nglview-js-widgets",
            "_model_module_version": "3.0.8",
            "_model_name": "NGLModel",
            "_ngl_color_dict": {},
            "_ngl_coordinate_resource": {},
            "_ngl_full_stage_parameters": {
              "ambientColor": 14540253,
              "ambientIntensity": 0.2,
              "backgroundColor": "white",
              "cameraEyeSep": 0.3,
              "cameraFov": 40,
              "cameraType": "orthographic",
              "clipDist": 0,
              "clipFar": 100,
              "clipMode": "scene",
              "clipNear": 0,
              "clipScale": "relative",
              "fogFar": 100,
              "fogNear": 50,
              "hoverTimeout": 0,
              "impostor": true,
              "lightColor": 14540253,
              "lightIntensity": 1,
              "mousePreset": "default",
              "panSpeed": 1,
              "quality": "medium",
              "rotateSpeed": 2,
              "sampleLevel": 0,
              "tooltip": true,
              "workerDefault": true,
              "zoomSpeed": 1.2
            },
            "_ngl_msg_archive": [
              {
                "args": [
                  {
                    "binary": false,
                    "data": "CRYST1    9.920    9.920    3.952  90.00  90.00 120.00 P 1\nMODEL     1\nATOM      1    Y MOL     1       0.000   0.000   0.000  1.00  0.00           Y  \nATOM      2    Y MOL     1      -0.000   5.727   1.976  1.00  0.00           Y  \nATOM      3   Ti MOL     1       6.525   3.891   1.976  1.00  0.00          TI  \nATOM      4   Ti MOL     1       5.067   0.995   1.976  1.00  0.00          TI  \nATOM      5   Ti MOL     1       3.288   3.705   1.976  1.00  0.00          TI  \nATOM      6   Si MOL     1       1.492   1.801   1.976  1.00  0.00          SI  \nATOM      7   Si MOL     1       7.615   0.392   1.976  1.00  0.00          SI  \nATOM      8   Si MOL     1       5.773   6.399   1.976  1.00  0.00          SI  \nATOM      9   Si MOL     1       2.335   5.472   0.000  1.00  0.00          SI  \nATOM     10   Si MOL     1      -0.946   7.877   0.000  1.00  0.00          SI  \nATOM     11   Si MOL     1      -1.389   3.833   0.000  1.00  0.00          SI  \nATOM     12   Si MOL     1       4.960   2.864   0.000  1.00  0.00          SI  \nATOM     13   Pt MOL     1      -2.451   8.099   1.976  1.00  0.00          PT  \nATOM     14   Pt MOL     1      -0.828   2.419   1.976  1.00  0.00          PT  \nATOM     15   Pt MOL     1       3.280   6.664   1.976  1.00  0.00          PT  \nATOM     16   Pt MOL     1       1.023   3.507   0.000  1.00  0.00          PT  \nATOM     17   Pt MOL     1       1.412   7.724   0.000  1.00  0.00          PT  \nATOM     18   Pt MOL     1      -2.435   5.952   0.000  1.00  0.00          PT  \nATOM     19   Pt MOL     1       2.997   1.505   0.000  1.00  0.00          PT  \nATOM     20   Pt MOL     1       7.118   1.843   0.000  1.00  0.00          PT  \nATOM     21   Pt MOL     1       4.765   5.243   0.000  1.00  0.00          PT  \nENDMDL\n",
                    "type": "blob"
                  }
                ],
                "kwargs": {
                  "defaultRepresentation": false,
                  "ext": "pdb"
                },
                "methodName": "loadFile",
                "reconstruc_color_scheme": false,
                "target": "Stage",
                "type": "call_method"
              },
              {
                "args": [
                  "500px",
                  "500px"
                ],
                "kwargs": {},
                "methodName": "setSize",
                "reconstruc_color_scheme": false,
                "target": "Widget",
                "type": "call_method"
              },
              {
                "args": [
                  "unitcell"
                ],
                "component_index": 0,
                "kwargs": {
                  "sele": "all"
                },
                "methodName": "addRepresentation",
                "reconstruc_color_scheme": false,
                "target": "compList",
                "type": "call_method"
              },
              {
                "args": [
                  "spacefill"
                ],
                "component_index": 0,
                "kwargs": {
                  "sele": "all"
                },
                "methodName": "addRepresentation",
                "reconstruc_color_scheme": false,
                "target": "compList",
                "type": "call_method"
              },
              {
                "args": [],
                "kwargs": {
                  "cameraType": "orthographic"
                },
                "methodName": "setParameters",
                "reconstruc_color_scheme": false,
                "target": "Stage",
                "type": "call_method"
              },
              {
                "args": [
                  {
                    "clipDist": 0
                  }
                ],
                "kwargs": {},
                "methodName": "setParameters",
                "reconstruc_color_scheme": false,
                "target": "Widget",
                "type": "call_method"
              },
              {
                "args": [
                  "spacefill",
                  0
                ],
                "kwargs": {
                  "colorScale": "rainbow",
                  "colorScheme": "element",
                  "radiusScale": 0.5,
                  "radiusType": "covalent"
                },
                "methodName": "updateRepresentationsByName",
                "reconstruc_color_scheme": false,
                "target": "Widget",
                "type": "call_method"
              },
              {
                "args": [
                  "spacefill",
                  0
                ],
                "kwargs": {
                  "colorScale": "rainbow",
                  "colorScheme": "element",
                  "radiusScale": 0.5,
                  "radiusType": "covalent"
                },
                "methodName": "updateRepresentationsByName",
                "reconstruc_color_scheme": false,
                "target": "Widget",
                "type": "call_method"
              },
              {
                "args": [
                  "spacefill",
                  0
                ],
                "kwargs": {
                  "colorScale": "rainbow",
                  "colorScheme": "element",
                  "radiusScale": 0.49999999999999994,
                  "radiusType": "covalent"
                },
                "methodName": "updateRepresentationsByName",
                "reconstruc_color_scheme": false,
                "target": "Widget",
                "type": "call_method"
              },
              {
                "args": [
                  "spacefill",
                  0
                ],
                "kwargs": {
                  "colorScale": "rainbow",
                  "colorScheme": "element",
                  "radiusScale": 0.49999999999999994,
                  "radiusType": "covalent"
                },
                "methodName": "updateRepresentationsByName",
                "reconstruc_color_scheme": false,
                "target": "Widget",
                "type": "call_method"
              }
            ],
            "_ngl_original_stage_parameters": {
              "ambientColor": 14540253,
              "ambientIntensity": 0.2,
              "backgroundColor": "white",
              "cameraEyeSep": 0.3,
              "cameraFov": 40,
              "cameraType": "perspective",
              "clipDist": 10,
              "clipFar": 100,
              "clipMode": "scene",
              "clipNear": 0,
              "clipScale": "relative",
              "fogFar": 100,
              "fogNear": 50,
              "hoverTimeout": 0,
              "impostor": true,
              "lightColor": 14540253,
              "lightIntensity": 1,
              "mousePreset": "default",
              "panSpeed": 1,
              "quality": "medium",
              "rotateSpeed": 2,
              "sampleLevel": 0,
              "tooltip": true,
              "workerDefault": true,
              "zoomSpeed": 1.2
            },
            "_ngl_repr_dict": {
              "0": {
                "0": {
                  "params": {
                    "clipCenter": {
                      "x": 0,
                      "y": 0,
                      "z": 0
                    },
                    "clipNear": 0,
                    "clipRadius": 0,
                    "colorMode": "hcl",
                    "colorReverse": false,
                    "colorScale": "",
                    "colorScheme": "element",
                    "colorValue": "orange",
                    "defaultAssembly": "",
                    "depthWrite": true,
                    "diffuse": 16777215,
                    "diffuseInterior": false,
                    "disableImpostor": false,
                    "disablePicking": false,
                    "flatShaded": false,
                    "interiorColor": 2236962,
                    "interiorDarkening": 0,
                    "lazy": false,
                    "matrix": {
                      "elements": [
                        1,
                        0,
                        0,
                        0,
                        0,
                        1,
                        0,
                        0,
                        0,
                        0,
                        1,
                        0,
                        0,
                        0,
                        0,
                        1
                      ]
                    },
                    "metalness": 0,
                    "opacity": 1,
                    "quality": "medium",
                    "radialSegments": 10,
                    "radiusData": {},
                    "radiusScale": 1,
                    "radiusSize": 0.034790442867728234,
                    "radiusType": "vdw",
                    "roughness": 0.4,
                    "sele": "all",
                    "side": "double",
                    "sphereDetail": 1,
                    "useInteriorColor": true,
                    "visible": true,
                    "wireframe": false
                  },
                  "type": "unitcell"
                },
                "1": {
                  "params": {
                    "clipCenter": {
                      "x": 0,
                      "y": 0,
                      "z": 0
                    },
                    "clipNear": 0,
                    "clipRadius": 0,
                    "colorMode": "hcl",
                    "colorReverse": false,
                    "colorScale": "",
                    "colorScheme": "element",
                    "colorValue": "orange",
                    "defaultAssembly": "",
                    "depthWrite": true,
                    "diffuse": 16777215,
                    "diffuseInterior": false,
                    "disableImpostor": false,
                    "disablePicking": false,
                    "flatShaded": false,
                    "interiorColor": 2236962,
                    "interiorDarkening": 0,
                    "lazy": false,
                    "matrix": {
                      "elements": [
                        1,
                        0,
                        0,
                        0,
                        0,
                        1,
                        0,
                        0,
                        0,
                        0,
                        1,
                        0,
                        0,
                        0,
                        0,
                        1
                      ]
                    },
                    "metalness": 0,
                    "opacity": 1,
                    "quality": "medium",
                    "radialSegments": 10,
                    "radiusData": {},
                    "radiusScale": 1,
                    "radiusSize": 0.034790442867728234,
                    "radiusType": "vdw",
                    "roughness": 0.4,
                    "sele": "all",
                    "side": "double",
                    "sphereDetail": 1,
                    "useInteriorColor": true,
                    "visible": true,
                    "wireframe": false
                  },
                  "type": "unitcell"
                },
                "2": {
                  "params": {
                    "assembly": "default",
                    "clipCenter": {
                      "x": 0,
                      "y": 0,
                      "z": 0
                    },
                    "clipNear": 0,
                    "clipRadius": 0,
                    "colorMode": "hcl",
                    "colorReverse": false,
                    "colorScale": "rainbow",
                    "colorScheme": "element",
                    "colorValue": 9474192,
                    "defaultAssembly": "",
                    "depthWrite": true,
                    "diffuse": 16777215,
                    "diffuseInterior": false,
                    "disableImpostor": false,
                    "disablePicking": false,
                    "flatShaded": false,
                    "interiorColor": 2236962,
                    "interiorDarkening": 0,
                    "lazy": false,
                    "matrix": {
                      "elements": [
                        1,
                        0,
                        0,
                        0,
                        0,
                        1,
                        0,
                        0,
                        0,
                        0,
                        1,
                        0,
                        0,
                        0,
                        0,
                        1
                      ]
                    },
                    "metalness": 0,
                    "opacity": 1,
                    "quality": "medium",
                    "radiusData": {},
                    "radiusScale": 0.5,
                    "radiusSize": 1,
                    "radiusType": "covalent",
                    "roughness": 0.4,
                    "sele": "all",
                    "side": "double",
                    "sphereDetail": 1,
                    "useInteriorColor": true,
                    "visible": true,
                    "wireframe": false
                  },
                  "type": "spacefill"
                },
                "3": {
                  "params": {
                    "assembly": "default",
                    "clipCenter": {
                      "x": 0,
                      "y": 0,
                      "z": 0
                    },
                    "clipNear": 0,
                    "clipRadius": 0,
                    "colorMode": "hcl",
                    "colorReverse": false,
                    "colorScale": "rainbow",
                    "colorScheme": "element",
                    "colorValue": 9474192,
                    "defaultAssembly": "",
                    "depthWrite": true,
                    "diffuse": 16777215,
                    "diffuseInterior": false,
                    "disableImpostor": false,
                    "disablePicking": false,
                    "flatShaded": false,
                    "interiorColor": 2236962,
                    "interiorDarkening": 0,
                    "lazy": false,
                    "matrix": {
                      "elements": [
                        1,
                        0,
                        0,
                        0,
                        0,
                        1,
                        0,
                        0,
                        0,
                        0,
                        1,
                        0,
                        0,
                        0,
                        0,
                        1
                      ]
                    },
                    "metalness": 0,
                    "opacity": 1,
                    "quality": "medium",
                    "radiusData": {},
                    "radiusScale": 0.5,
                    "radiusSize": 1,
                    "radiusType": "covalent",
                    "roughness": 0.4,
                    "sele": "all",
                    "side": "double",
                    "sphereDetail": 1,
                    "useInteriorColor": true,
                    "visible": true,
                    "wireframe": false
                  },
                  "type": "spacefill"
                }
              },
              "1": {}
            },
            "_ngl_serialize": false,
            "_ngl_version": "2.0.0-dev.39",
            "_ngl_view_id": [
              "260D8F6F-EAF7-4641-86CF-696C2E157DA3"
            ],
            "_player_dict": {},
            "_scene_position": {},
            "_scene_rotation": {},
            "_synced_model_ids": [],
            "_synced_repr_model_ids": [],
            "_view_count": null,
            "_view_height": "",
            "_view_module": "nglview-js-widgets",
            "_view_module_version": "3.0.8",
            "_view_name": "NGLView",
            "_view_width": "",
            "background": "white",
            "frame": 0,
            "gui_style": null,
            "layout": "IPY_MODEL_8d9305761f534603bbe5b6498a7c745a",
            "max_frame": 0,
            "n_components": 2,
            "picked": {}
          }
        },
        "8d9305761f534603bbe5b6498a7c745a": {
          "model_module": "@jupyter-widgets/base",
          "model_module_version": "1.2.0",
          "model_name": "LayoutModel",
          "state": {
            "_model_module": "@jupyter-widgets/base",
            "_model_module_version": "1.2.0",
            "_model_name": "LayoutModel",
            "_view_count": null,
            "_view_module": "@jupyter-widgets/base",
            "_view_module_version": "1.2.0",
            "_view_name": "LayoutView",
            "align_content": null,
            "align_items": null,
            "align_self": null,
            "border": null,
            "bottom": null,
            "display": null,
            "flex": null,
            "flex_flow": null,
            "grid_area": null,
            "grid_auto_columns": null,
            "grid_auto_flow": null,
            "grid_auto_rows": null,
            "grid_column": null,
            "grid_gap": null,
            "grid_row": null,
            "grid_template_areas": null,
            "grid_template_columns": null,
            "grid_template_rows": null,
            "height": null,
            "justify_content": null,
            "justify_items": null,
            "left": null,
            "margin": null,
            "max_height": null,
            "max_width": null,
            "min_height": null,
            "min_width": null,
            "object_fit": null,
            "object_position": null,
            "order": null,
            "overflow": null,
            "overflow_x": null,
            "overflow_y": null,
            "padding": null,
            "right": null,
            "top": null,
            "visibility": null,
            "width": null
          }
        },
        "9b555085bbf2461f8eac1164a40d087d": {
          "model_module": "@jupyter-widgets/base",
          "model_module_version": "1.2.0",
          "model_name": "LayoutModel",
          "state": {
            "_model_module": "@jupyter-widgets/base",
            "_model_module_version": "1.2.0",
            "_model_name": "LayoutModel",
            "_view_count": null,
            "_view_module": "@jupyter-widgets/base",
            "_view_module_version": "1.2.0",
            "_view_name": "LayoutView",
            "align_content": null,
            "align_items": null,
            "align_self": null,
            "border": null,
            "bottom": null,
            "display": null,
            "flex": null,
            "flex_flow": null,
            "grid_area": null,
            "grid_auto_columns": null,
            "grid_auto_flow": null,
            "grid_auto_rows": null,
            "grid_column": null,
            "grid_gap": null,
            "grid_row": null,
            "grid_template_areas": null,
            "grid_template_columns": null,
            "grid_template_rows": null,
            "height": null,
            "justify_content": null,
            "justify_items": null,
            "left": null,
            "margin": null,
            "max_height": null,
            "max_width": null,
            "min_height": null,
            "min_width": null,
            "object_fit": null,
            "object_position": null,
            "order": null,
            "overflow": null,
            "overflow_x": null,
            "overflow_y": null,
            "padding": null,
            "right": null,
            "top": null,
            "visibility": null,
            "width": "34px"
          }
        },
        "b8f5c47265854f0589b98cf1ed0ccf9d": {
          "model_module": "@jupyter-widgets/controls",
          "model_module_version": "1.5.0",
          "model_name": "DropdownModel",
          "state": {
            "_dom_classes": [],
            "_model_module": "@jupyter-widgets/controls",
            "_model_module_version": "1.5.0",
            "_model_name": "DropdownModel",
            "_options_labels": [
              " ",
              "picking",
              "random",
              "uniform",
              "atomindex",
              "residueindex",
              "chainindex",
              "modelindex",
              "sstruc",
              "element",
              "resname",
              "bfactor",
              "hydrophobicity",
              "value",
              "volume",
              "occupancy"
            ],
            "_view_count": null,
            "_view_module": "@jupyter-widgets/controls",
            "_view_module_version": "1.5.0",
            "_view_name": "DropdownView",
            "description": "Color scheme",
            "description_tooltip": null,
            "disabled": false,
            "index": 9,
            "layout": "IPY_MODEL_1316a182f1ce49e8a104d71d41048061",
            "style": "IPY_MODEL_772611676d8b432abaf8765abaed342a"
          }
        },
        "d02cebf6de25443f8aeaa5639b478075": {
          "model_module": "@jupyter-widgets/controls",
          "model_module_version": "1.5.0",
          "model_name": "ButtonStyleModel",
          "state": {
            "_model_module": "@jupyter-widgets/controls",
            "_model_module_version": "1.5.0",
            "_model_name": "ButtonStyleModel",
            "_view_count": null,
            "_view_module": "@jupyter-widgets/base",
            "_view_module_version": "1.2.0",
            "_view_name": "StyleView",
            "button_color": null,
            "font_weight": ""
          }
        },
        "d51c3a4bf50b41c5ba08442696ca6574": {
          "model_module": "@jupyter-widgets/base",
          "model_module_version": "1.2.0",
          "model_name": "LayoutModel",
          "state": {
            "_model_module": "@jupyter-widgets/base",
            "_model_module_version": "1.2.0",
            "_model_name": "LayoutModel",
            "_view_count": null,
            "_view_module": "@jupyter-widgets/base",
            "_view_module_version": "1.2.0",
            "_view_name": "LayoutView",
            "align_content": null,
            "align_items": null,
            "align_self": null,
            "border": null,
            "bottom": null,
            "display": null,
            "flex": null,
            "flex_flow": null,
            "grid_area": null,
            "grid_auto_columns": null,
            "grid_auto_flow": null,
            "grid_auto_rows": null,
            "grid_column": null,
            "grid_gap": null,
            "grid_row": null,
            "grid_template_areas": null,
            "grid_template_columns": null,
            "grid_template_rows": null,
            "height": null,
            "justify_content": null,
            "justify_items": null,
            "left": null,
            "margin": null,
            "max_height": null,
            "max_width": null,
            "min_height": null,
            "min_width": null,
            "object_fit": null,
            "object_position": null,
            "order": null,
            "overflow": null,
            "overflow_x": null,
            "overflow_y": null,
            "padding": null,
            "right": null,
            "top": null,
            "visibility": null,
            "width": null
          }
        },
        "e67f0f4ca25941ba83a301d6369ac2ac": {
          "model_module": "@jupyter-widgets/controls",
          "model_module_version": "1.5.0",
          "model_name": "HBoxModel",
          "state": {
            "_dom_classes": [],
            "_model_module": "@jupyter-widgets/controls",
            "_model_module_version": "1.5.0",
            "_model_name": "HBoxModel",
            "_view_count": null,
            "_view_module": "@jupyter-widgets/controls",
            "_view_module_version": "1.5.0",
            "_view_name": "HBoxView",
            "box_style": "",
            "children": [
              "IPY_MODEL_7fd8365e612c408aa30c2ade553fbab1",
              "IPY_MODEL_7721b1c64ee14279a4c475068faf46c0"
            ],
            "layout": "IPY_MODEL_ecaaafbe7b024ac0bd2a4aa4b67a23b1"
          }
        },
        "ecaaafbe7b024ac0bd2a4aa4b67a23b1": {
          "model_module": "@jupyter-widgets/base",
          "model_module_version": "1.2.0",
          "model_name": "LayoutModel",
          "state": {
            "_model_module": "@jupyter-widgets/base",
            "_model_module_version": "1.2.0",
            "_model_name": "LayoutModel",
            "_view_count": null,
            "_view_module": "@jupyter-widgets/base",
            "_view_module_version": "1.2.0",
            "_view_name": "LayoutView",
            "align_content": null,
            "align_items": null,
            "align_self": null,
            "border": null,
            "bottom": null,
            "display": null,
            "flex": null,
            "flex_flow": null,
            "grid_area": null,
            "grid_auto_columns": null,
            "grid_auto_flow": null,
            "grid_auto_rows": null,
            "grid_column": null,
            "grid_gap": null,
            "grid_row": null,
            "grid_template_areas": null,
            "grid_template_columns": null,
            "grid_template_rows": null,
            "height": null,
            "justify_content": null,
            "justify_items": null,
            "left": null,
            "margin": null,
            "max_height": null,
            "max_width": null,
            "min_height": null,
            "min_width": null,
            "object_fit": null,
            "object_position": null,
            "order": null,
            "overflow": null,
            "overflow_x": null,
            "overflow_y": null,
            "padding": null,
            "right": null,
            "top": null,
            "visibility": null,
            "width": null
          }
        },
        "ed9c8de296724d579324dff9a3f478f0": {
          "model_module": "@jupyter-widgets/controls",
          "model_module_version": "1.5.0",
          "model_name": "SliderStyleModel",
          "state": {
            "_model_module": "@jupyter-widgets/controls",
            "_model_module_version": "1.5.0",
            "_model_name": "SliderStyleModel",
            "_view_count": null,
            "_view_module": "@jupyter-widgets/base",
            "_view_module_version": "1.2.0",
            "_view_name": "StyleView",
            "description_width": "",
            "handle_color": null
          }
        },
        "f144948d63564e0ba7bd16c6454b0b6b": {
          "model_module": "@jupyter-widgets/controls",
          "model_module_version": "1.5.0",
          "model_name": "DescriptionStyleModel",
          "state": {
            "_model_module": "@jupyter-widgets/controls",
            "_model_module_version": "1.5.0",
            "_model_name": "DescriptionStyleModel",
            "_view_count": null,
            "_view_module": "@jupyter-widgets/base",
            "_view_module_version": "1.2.0",
            "_view_name": "StyleView",
            "description_width": ""
          }
        }
      }
    }
  },
  "nbformat": 4,
  "nbformat_minor": 0
}
